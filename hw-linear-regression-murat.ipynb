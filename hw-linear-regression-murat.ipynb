{
 "cells": [
  {
   "cell_type": "code",
   "execution_count": 1,
   "id": "fc7bd032",
   "metadata": {
    "_cell_guid": "b1076dfc-b9ad-4769-8c92-a6c4dae69d19",
    "_uuid": "8f2839f25d086af736a60e9eeb907d3b93b6e0e5",
    "execution": {
     "iopub.execute_input": "2022-08-03T00:37:45.046044Z",
     "iopub.status.busy": "2022-08-03T00:37:45.045232Z",
     "iopub.status.idle": "2022-08-03T00:37:46.708781Z",
     "shell.execute_reply": "2022-08-03T00:37:46.707974Z"
    },
    "papermill": {
     "duration": 1.678923,
     "end_time": "2022-08-03T00:37:46.711942",
     "exception": false,
     "start_time": "2022-08-03T00:37:45.033019",
     "status": "completed"
    },
    "tags": []
   },
   "outputs": [
    {
     "name": "stdout",
     "output_type": "stream",
     "text": [
      "/kaggle/input/diamonds-prices/Diamonds Prices2022.csv\n"
     ]
    }
   ],
   "source": [
    "# This Python 3 environment comes with many helpful analytics libraries installed\n",
    "# It is defined by the kaggle/python Docker image: https://github.com/kaggle/docker-python\n",
    "# For example, here's several helpful packages to load\n",
    "\n",
    "import numpy as np # linear algebra\n",
    "import pandas as pd # data processing, CSV file I/O (e.g. pd.read_csv)\n",
    "import seaborn as sns\n",
    "from sklearn.linear_model import LinearRegression\n",
    "from sklearn import datasets\n",
    "from sklearn import model_selection\n",
    "from sklearn.linear_model import LogisticRegression\n",
    "import matplotlib.pyplot as plt\n",
    "plt.style.use('ggplot')\n",
    "import warnings\n",
    "warnings.filterwarnings(\"ignore\")\n",
    "\n",
    "from sklearn.model_selection import train_test_split, cross_val_score\n",
    "from sklearn.preprocessing import StandardScaler\n",
    "from sklearn.metrics import r2_score, mean_absolute_error, mean_squared_error\n",
    "\n",
    "from sklearn.svm import SVC\n",
    "from sklearn.linear_model import LinearRegression\n",
    "from sklearn.linear_model import Ridge\n",
    "from sklearn.linear_model import Lasso\n",
    "from sklearn.linear_model import ElasticNet\n",
    "from sklearn.ensemble import RandomForestRegressor\n",
    "from sklearn.svm import SVR\n",
    "from xgboost import XGBRegressor\n",
    "from sklearn.preprocessing import PolynomialFeatures\n",
    "\n",
    "# Input data files are available in the read-only \"../input/\" directory\n",
    "# For example, running this (by clicking run or pressing Shift+Enter) will list all files under the input directory\n",
    "\n",
    "import os\n",
    "for dirname, _, filenames in os.walk('/kaggle/input'):\n",
    "    for filename in filenames:\n",
    "        print(os.path.join(dirname, filename))\n",
    "\n",
    "# You can write up to 20GB to the current directory (/kaggle/working/) that gets preserved as output when you create a version using \"Save & Run All\" \n",
    "# You can also write temporary files to /kaggle/temp/, but they won't be saved outside of the current session"
   ]
  },
  {
   "cell_type": "markdown",
   "id": "539a2c39",
   "metadata": {
    "papermill": {
     "duration": 0.009176,
     "end_time": "2022-08-03T00:37:46.732072",
     "exception": false,
     "start_time": "2022-08-03T00:37:46.722896",
     "status": "completed"
    },
    "tags": []
   },
   "source": [
    "price price in US dollars (\\$326--\\$18,823)\n",
    "\n",
    "carat weight of the diamond (0.2--5.01)\n",
    "\n",
    "cut quality of the cut (Fair, Good, Very Good, Premium, Ideal)\n",
    "\n",
    "color diamond colour, from J (worst) to D (best)\n",
    "\n",
    "clarity a measurement of how clear the diamond is (I1 (worst), SI2, SI1, VS2, VS1, VVS2, VVS1, IF (best))\n",
    "\n",
    "x length in mm (0--10.74)\n",
    "\n",
    "y width in mm (0--58.9)\n",
    "\n",
    "z depth in mm (0--31.8)\n",
    "\n",
    "depth total depth percentage = z / mean(x, y) = 2 * z / (x + y) (43--79)\n",
    "\n",
    "table width of top of diamond relative to widest point (43--95)"
   ]
  },
  {
   "cell_type": "code",
   "execution_count": 2,
   "id": "f0362ace",
   "metadata": {
    "execution": {
     "iopub.execute_input": "2022-08-03T00:37:46.752999Z",
     "iopub.status.busy": "2022-08-03T00:37:46.752610Z",
     "iopub.status.idle": "2022-08-03T00:37:46.883564Z",
     "shell.execute_reply": "2022-08-03T00:37:46.882418Z"
    },
    "papermill": {
     "duration": 0.144304,
     "end_time": "2022-08-03T00:37:46.886127",
     "exception": false,
     "start_time": "2022-08-03T00:37:46.741823",
     "status": "completed"
    },
    "tags": []
   },
   "outputs": [
    {
     "data": {
      "text/html": [
       "<div>\n",
       "<style scoped>\n",
       "    .dataframe tbody tr th:only-of-type {\n",
       "        vertical-align: middle;\n",
       "    }\n",
       "\n",
       "    .dataframe tbody tr th {\n",
       "        vertical-align: top;\n",
       "    }\n",
       "\n",
       "    .dataframe thead th {\n",
       "        text-align: right;\n",
       "    }\n",
       "</style>\n",
       "<table border=\"1\" class=\"dataframe\">\n",
       "  <thead>\n",
       "    <tr style=\"text-align: right;\">\n",
       "      <th></th>\n",
       "      <th>Unnamed: 0</th>\n",
       "      <th>carat</th>\n",
       "      <th>cut</th>\n",
       "      <th>color</th>\n",
       "      <th>clarity</th>\n",
       "      <th>depth</th>\n",
       "      <th>table</th>\n",
       "      <th>price</th>\n",
       "      <th>x</th>\n",
       "      <th>y</th>\n",
       "      <th>z</th>\n",
       "    </tr>\n",
       "  </thead>\n",
       "  <tbody>\n",
       "    <tr>\n",
       "      <th>0</th>\n",
       "      <td>1</td>\n",
       "      <td>0.23</td>\n",
       "      <td>Ideal</td>\n",
       "      <td>E</td>\n",
       "      <td>SI2</td>\n",
       "      <td>61.5</td>\n",
       "      <td>55.0</td>\n",
       "      <td>326</td>\n",
       "      <td>3.95</td>\n",
       "      <td>3.98</td>\n",
       "      <td>2.43</td>\n",
       "    </tr>\n",
       "    <tr>\n",
       "      <th>1</th>\n",
       "      <td>2</td>\n",
       "      <td>0.21</td>\n",
       "      <td>Premium</td>\n",
       "      <td>E</td>\n",
       "      <td>SI1</td>\n",
       "      <td>59.8</td>\n",
       "      <td>61.0</td>\n",
       "      <td>326</td>\n",
       "      <td>3.89</td>\n",
       "      <td>3.84</td>\n",
       "      <td>2.31</td>\n",
       "    </tr>\n",
       "    <tr>\n",
       "      <th>2</th>\n",
       "      <td>3</td>\n",
       "      <td>0.23</td>\n",
       "      <td>Good</td>\n",
       "      <td>E</td>\n",
       "      <td>VS1</td>\n",
       "      <td>56.9</td>\n",
       "      <td>65.0</td>\n",
       "      <td>327</td>\n",
       "      <td>4.05</td>\n",
       "      <td>4.07</td>\n",
       "      <td>2.31</td>\n",
       "    </tr>\n",
       "    <tr>\n",
       "      <th>3</th>\n",
       "      <td>4</td>\n",
       "      <td>0.29</td>\n",
       "      <td>Premium</td>\n",
       "      <td>I</td>\n",
       "      <td>VS2</td>\n",
       "      <td>62.4</td>\n",
       "      <td>58.0</td>\n",
       "      <td>334</td>\n",
       "      <td>4.20</td>\n",
       "      <td>4.23</td>\n",
       "      <td>2.63</td>\n",
       "    </tr>\n",
       "    <tr>\n",
       "      <th>4</th>\n",
       "      <td>5</td>\n",
       "      <td>0.31</td>\n",
       "      <td>Good</td>\n",
       "      <td>J</td>\n",
       "      <td>SI2</td>\n",
       "      <td>63.3</td>\n",
       "      <td>58.0</td>\n",
       "      <td>335</td>\n",
       "      <td>4.34</td>\n",
       "      <td>4.35</td>\n",
       "      <td>2.75</td>\n",
       "    </tr>\n",
       "    <tr>\n",
       "      <th>...</th>\n",
       "      <td>...</td>\n",
       "      <td>...</td>\n",
       "      <td>...</td>\n",
       "      <td>...</td>\n",
       "      <td>...</td>\n",
       "      <td>...</td>\n",
       "      <td>...</td>\n",
       "      <td>...</td>\n",
       "      <td>...</td>\n",
       "      <td>...</td>\n",
       "      <td>...</td>\n",
       "    </tr>\n",
       "    <tr>\n",
       "      <th>53938</th>\n",
       "      <td>53939</td>\n",
       "      <td>0.86</td>\n",
       "      <td>Premium</td>\n",
       "      <td>H</td>\n",
       "      <td>SI2</td>\n",
       "      <td>61.0</td>\n",
       "      <td>58.0</td>\n",
       "      <td>2757</td>\n",
       "      <td>6.15</td>\n",
       "      <td>6.12</td>\n",
       "      <td>3.74</td>\n",
       "    </tr>\n",
       "    <tr>\n",
       "      <th>53939</th>\n",
       "      <td>53940</td>\n",
       "      <td>0.75</td>\n",
       "      <td>Ideal</td>\n",
       "      <td>D</td>\n",
       "      <td>SI2</td>\n",
       "      <td>62.2</td>\n",
       "      <td>55.0</td>\n",
       "      <td>2757</td>\n",
       "      <td>5.83</td>\n",
       "      <td>5.87</td>\n",
       "      <td>3.64</td>\n",
       "    </tr>\n",
       "    <tr>\n",
       "      <th>53940</th>\n",
       "      <td>53941</td>\n",
       "      <td>0.71</td>\n",
       "      <td>Premium</td>\n",
       "      <td>E</td>\n",
       "      <td>SI1</td>\n",
       "      <td>60.5</td>\n",
       "      <td>55.0</td>\n",
       "      <td>2756</td>\n",
       "      <td>5.79</td>\n",
       "      <td>5.74</td>\n",
       "      <td>3.49</td>\n",
       "    </tr>\n",
       "    <tr>\n",
       "      <th>53941</th>\n",
       "      <td>53942</td>\n",
       "      <td>0.71</td>\n",
       "      <td>Premium</td>\n",
       "      <td>F</td>\n",
       "      <td>SI1</td>\n",
       "      <td>59.8</td>\n",
       "      <td>62.0</td>\n",
       "      <td>2756</td>\n",
       "      <td>5.74</td>\n",
       "      <td>5.73</td>\n",
       "      <td>3.43</td>\n",
       "    </tr>\n",
       "    <tr>\n",
       "      <th>53942</th>\n",
       "      <td>53943</td>\n",
       "      <td>0.70</td>\n",
       "      <td>Very Good</td>\n",
       "      <td>E</td>\n",
       "      <td>VS2</td>\n",
       "      <td>60.5</td>\n",
       "      <td>59.0</td>\n",
       "      <td>2757</td>\n",
       "      <td>5.71</td>\n",
       "      <td>5.76</td>\n",
       "      <td>3.47</td>\n",
       "    </tr>\n",
       "  </tbody>\n",
       "</table>\n",
       "<p>53943 rows × 11 columns</p>\n",
       "</div>"
      ],
      "text/plain": [
       "       Unnamed: 0  carat        cut color clarity  depth  table  price     x  \\\n",
       "0               1   0.23      Ideal     E     SI2   61.5   55.0    326  3.95   \n",
       "1               2   0.21    Premium     E     SI1   59.8   61.0    326  3.89   \n",
       "2               3   0.23       Good     E     VS1   56.9   65.0    327  4.05   \n",
       "3               4   0.29    Premium     I     VS2   62.4   58.0    334  4.20   \n",
       "4               5   0.31       Good     J     SI2   63.3   58.0    335  4.34   \n",
       "...           ...    ...        ...   ...     ...    ...    ...    ...   ...   \n",
       "53938       53939   0.86    Premium     H     SI2   61.0   58.0   2757  6.15   \n",
       "53939       53940   0.75      Ideal     D     SI2   62.2   55.0   2757  5.83   \n",
       "53940       53941   0.71    Premium     E     SI1   60.5   55.0   2756  5.79   \n",
       "53941       53942   0.71    Premium     F     SI1   59.8   62.0   2756  5.74   \n",
       "53942       53943   0.70  Very Good     E     VS2   60.5   59.0   2757  5.71   \n",
       "\n",
       "          y     z  \n",
       "0      3.98  2.43  \n",
       "1      3.84  2.31  \n",
       "2      4.07  2.31  \n",
       "3      4.23  2.63  \n",
       "4      4.35  2.75  \n",
       "...     ...   ...  \n",
       "53938  6.12  3.74  \n",
       "53939  5.87  3.64  \n",
       "53940  5.74  3.49  \n",
       "53941  5.73  3.43  \n",
       "53942  5.76  3.47  \n",
       "\n",
       "[53943 rows x 11 columns]"
      ]
     },
     "execution_count": 2,
     "metadata": {},
     "output_type": "execute_result"
    }
   ],
   "source": [
    "data=pd.read_csv(\"../input/diamonds-prices/Diamonds Prices2022.csv\")\n",
    "df=data.copy()\n",
    "df"
   ]
  },
  {
   "cell_type": "code",
   "execution_count": 3,
   "id": "c0e57062",
   "metadata": {
    "execution": {
     "iopub.execute_input": "2022-08-03T00:37:46.908199Z",
     "iopub.status.busy": "2022-08-03T00:37:46.907547Z",
     "iopub.status.idle": "2022-08-03T00:37:46.940713Z",
     "shell.execute_reply": "2022-08-03T00:37:46.939360Z"
    },
    "papermill": {
     "duration": 0.047081,
     "end_time": "2022-08-03T00:37:46.943297",
     "exception": false,
     "start_time": "2022-08-03T00:37:46.896216",
     "status": "completed"
    },
    "tags": []
   },
   "outputs": [
    {
     "data": {
      "text/html": [
       "<div>\n",
       "<style scoped>\n",
       "    .dataframe tbody tr th:only-of-type {\n",
       "        vertical-align: middle;\n",
       "    }\n",
       "\n",
       "    .dataframe tbody tr th {\n",
       "        vertical-align: top;\n",
       "    }\n",
       "\n",
       "    .dataframe thead th {\n",
       "        text-align: right;\n",
       "    }\n",
       "</style>\n",
       "<table border=\"1\" class=\"dataframe\">\n",
       "  <thead>\n",
       "    <tr style=\"text-align: right;\">\n",
       "      <th></th>\n",
       "      <th>carat</th>\n",
       "      <th>cut</th>\n",
       "      <th>color</th>\n",
       "      <th>clarity</th>\n",
       "      <th>depth</th>\n",
       "      <th>table</th>\n",
       "      <th>price</th>\n",
       "      <th>x</th>\n",
       "      <th>y</th>\n",
       "      <th>z</th>\n",
       "    </tr>\n",
       "  </thead>\n",
       "  <tbody>\n",
       "    <tr>\n",
       "      <th>0</th>\n",
       "      <td>0.23</td>\n",
       "      <td>Ideal</td>\n",
       "      <td>E</td>\n",
       "      <td>SI2</td>\n",
       "      <td>61.5</td>\n",
       "      <td>55.0</td>\n",
       "      <td>326</td>\n",
       "      <td>3.95</td>\n",
       "      <td>3.98</td>\n",
       "      <td>2.43</td>\n",
       "    </tr>\n",
       "    <tr>\n",
       "      <th>1</th>\n",
       "      <td>0.21</td>\n",
       "      <td>Premium</td>\n",
       "      <td>E</td>\n",
       "      <td>SI1</td>\n",
       "      <td>59.8</td>\n",
       "      <td>61.0</td>\n",
       "      <td>326</td>\n",
       "      <td>3.89</td>\n",
       "      <td>3.84</td>\n",
       "      <td>2.31</td>\n",
       "    </tr>\n",
       "    <tr>\n",
       "      <th>2</th>\n",
       "      <td>0.23</td>\n",
       "      <td>Good</td>\n",
       "      <td>E</td>\n",
       "      <td>VS1</td>\n",
       "      <td>56.9</td>\n",
       "      <td>65.0</td>\n",
       "      <td>327</td>\n",
       "      <td>4.05</td>\n",
       "      <td>4.07</td>\n",
       "      <td>2.31</td>\n",
       "    </tr>\n",
       "    <tr>\n",
       "      <th>3</th>\n",
       "      <td>0.29</td>\n",
       "      <td>Premium</td>\n",
       "      <td>I</td>\n",
       "      <td>VS2</td>\n",
       "      <td>62.4</td>\n",
       "      <td>58.0</td>\n",
       "      <td>334</td>\n",
       "      <td>4.20</td>\n",
       "      <td>4.23</td>\n",
       "      <td>2.63</td>\n",
       "    </tr>\n",
       "    <tr>\n",
       "      <th>4</th>\n",
       "      <td>0.31</td>\n",
       "      <td>Good</td>\n",
       "      <td>J</td>\n",
       "      <td>SI2</td>\n",
       "      <td>63.3</td>\n",
       "      <td>58.0</td>\n",
       "      <td>335</td>\n",
       "      <td>4.34</td>\n",
       "      <td>4.35</td>\n",
       "      <td>2.75</td>\n",
       "    </tr>\n",
       "    <tr>\n",
       "      <th>...</th>\n",
       "      <td>...</td>\n",
       "      <td>...</td>\n",
       "      <td>...</td>\n",
       "      <td>...</td>\n",
       "      <td>...</td>\n",
       "      <td>...</td>\n",
       "      <td>...</td>\n",
       "      <td>...</td>\n",
       "      <td>...</td>\n",
       "      <td>...</td>\n",
       "    </tr>\n",
       "    <tr>\n",
       "      <th>53938</th>\n",
       "      <td>0.86</td>\n",
       "      <td>Premium</td>\n",
       "      <td>H</td>\n",
       "      <td>SI2</td>\n",
       "      <td>61.0</td>\n",
       "      <td>58.0</td>\n",
       "      <td>2757</td>\n",
       "      <td>6.15</td>\n",
       "      <td>6.12</td>\n",
       "      <td>3.74</td>\n",
       "    </tr>\n",
       "    <tr>\n",
       "      <th>53939</th>\n",
       "      <td>0.75</td>\n",
       "      <td>Ideal</td>\n",
       "      <td>D</td>\n",
       "      <td>SI2</td>\n",
       "      <td>62.2</td>\n",
       "      <td>55.0</td>\n",
       "      <td>2757</td>\n",
       "      <td>5.83</td>\n",
       "      <td>5.87</td>\n",
       "      <td>3.64</td>\n",
       "    </tr>\n",
       "    <tr>\n",
       "      <th>53940</th>\n",
       "      <td>0.71</td>\n",
       "      <td>Premium</td>\n",
       "      <td>E</td>\n",
       "      <td>SI1</td>\n",
       "      <td>60.5</td>\n",
       "      <td>55.0</td>\n",
       "      <td>2756</td>\n",
       "      <td>5.79</td>\n",
       "      <td>5.74</td>\n",
       "      <td>3.49</td>\n",
       "    </tr>\n",
       "    <tr>\n",
       "      <th>53941</th>\n",
       "      <td>0.71</td>\n",
       "      <td>Premium</td>\n",
       "      <td>F</td>\n",
       "      <td>SI1</td>\n",
       "      <td>59.8</td>\n",
       "      <td>62.0</td>\n",
       "      <td>2756</td>\n",
       "      <td>5.74</td>\n",
       "      <td>5.73</td>\n",
       "      <td>3.43</td>\n",
       "    </tr>\n",
       "    <tr>\n",
       "      <th>53942</th>\n",
       "      <td>0.70</td>\n",
       "      <td>Very Good</td>\n",
       "      <td>E</td>\n",
       "      <td>VS2</td>\n",
       "      <td>60.5</td>\n",
       "      <td>59.0</td>\n",
       "      <td>2757</td>\n",
       "      <td>5.71</td>\n",
       "      <td>5.76</td>\n",
       "      <td>3.47</td>\n",
       "    </tr>\n",
       "  </tbody>\n",
       "</table>\n",
       "<p>53943 rows × 10 columns</p>\n",
       "</div>"
      ],
      "text/plain": [
       "       carat        cut color clarity  depth  table  price     x     y     z\n",
       "0       0.23      Ideal     E     SI2   61.5   55.0    326  3.95  3.98  2.43\n",
       "1       0.21    Premium     E     SI1   59.8   61.0    326  3.89  3.84  2.31\n",
       "2       0.23       Good     E     VS1   56.9   65.0    327  4.05  4.07  2.31\n",
       "3       0.29    Premium     I     VS2   62.4   58.0    334  4.20  4.23  2.63\n",
       "4       0.31       Good     J     SI2   63.3   58.0    335  4.34  4.35  2.75\n",
       "...      ...        ...   ...     ...    ...    ...    ...   ...   ...   ...\n",
       "53938   0.86    Premium     H     SI2   61.0   58.0   2757  6.15  6.12  3.74\n",
       "53939   0.75      Ideal     D     SI2   62.2   55.0   2757  5.83  5.87  3.64\n",
       "53940   0.71    Premium     E     SI1   60.5   55.0   2756  5.79  5.74  3.49\n",
       "53941   0.71    Premium     F     SI1   59.8   62.0   2756  5.74  5.73  3.43\n",
       "53942   0.70  Very Good     E     VS2   60.5   59.0   2757  5.71  5.76  3.47\n",
       "\n",
       "[53943 rows x 10 columns]"
      ]
     },
     "execution_count": 3,
     "metadata": {},
     "output_type": "execute_result"
    }
   ],
   "source": [
    "df.drop(df.columns[0],axis=1,inplace=True)\n",
    "df"
   ]
  },
  {
   "cell_type": "code",
   "execution_count": 4,
   "id": "3df8572c",
   "metadata": {
    "execution": {
     "iopub.execute_input": "2022-08-03T00:37:46.966870Z",
     "iopub.status.busy": "2022-08-03T00:37:46.966108Z",
     "iopub.status.idle": "2022-08-03T00:37:46.974390Z",
     "shell.execute_reply": "2022-08-03T00:37:46.973412Z"
    },
    "papermill": {
     "duration": 0.022066,
     "end_time": "2022-08-03T00:37:46.976634",
     "exception": false,
     "start_time": "2022-08-03T00:37:46.954568",
     "status": "completed"
    },
    "tags": []
   },
   "outputs": [
    {
     "data": {
      "text/plain": [
       "carat      float64\n",
       "cut         object\n",
       "color       object\n",
       "clarity     object\n",
       "depth      float64\n",
       "table      float64\n",
       "price        int64\n",
       "x          float64\n",
       "y          float64\n",
       "z          float64\n",
       "dtype: object"
      ]
     },
     "execution_count": 4,
     "metadata": {},
     "output_type": "execute_result"
    }
   ],
   "source": [
    "df.dtypes"
   ]
  },
  {
   "cell_type": "code",
   "execution_count": 5,
   "id": "880ab861",
   "metadata": {
    "execution": {
     "iopub.execute_input": "2022-08-03T00:37:46.999867Z",
     "iopub.status.busy": "2022-08-03T00:37:46.999156Z",
     "iopub.status.idle": "2022-08-03T00:37:47.026905Z",
     "shell.execute_reply": "2022-08-03T00:37:47.025633Z"
    },
    "papermill": {
     "duration": 0.04213,
     "end_time": "2022-08-03T00:37:47.029352",
     "exception": false,
     "start_time": "2022-08-03T00:37:46.987222",
     "status": "completed"
    },
    "tags": []
   },
   "outputs": [
    {
     "name": "stdout",
     "output_type": "stream",
     "text": [
      "<class 'pandas.core.frame.DataFrame'>\n",
      "RangeIndex: 53943 entries, 0 to 53942\n",
      "Data columns (total 10 columns):\n",
      " #   Column   Non-Null Count  Dtype  \n",
      "---  ------   --------------  -----  \n",
      " 0   carat    53943 non-null  float64\n",
      " 1   cut      53943 non-null  object \n",
      " 2   color    53943 non-null  object \n",
      " 3   clarity  53943 non-null  object \n",
      " 4   depth    53943 non-null  float64\n",
      " 5   table    53943 non-null  float64\n",
      " 6   price    53943 non-null  int64  \n",
      " 7   x        53943 non-null  float64\n",
      " 8   y        53943 non-null  float64\n",
      " 9   z        53943 non-null  float64\n",
      "dtypes: float64(6), int64(1), object(3)\n",
      "memory usage: 4.1+ MB\n"
     ]
    }
   ],
   "source": [
    "df.info()"
   ]
  },
  {
   "cell_type": "code",
   "execution_count": 6,
   "id": "9b59fe70",
   "metadata": {
    "execution": {
     "iopub.execute_input": "2022-08-03T00:37:47.052141Z",
     "iopub.status.busy": "2022-08-03T00:37:47.051349Z",
     "iopub.status.idle": "2022-08-03T00:37:47.100999Z",
     "shell.execute_reply": "2022-08-03T00:37:47.099848Z"
    },
    "papermill": {
     "duration": 0.063844,
     "end_time": "2022-08-03T00:37:47.103605",
     "exception": false,
     "start_time": "2022-08-03T00:37:47.039761",
     "status": "completed"
    },
    "tags": []
   },
   "outputs": [
    {
     "data": {
      "text/html": [
       "<div>\n",
       "<style scoped>\n",
       "    .dataframe tbody tr th:only-of-type {\n",
       "        vertical-align: middle;\n",
       "    }\n",
       "\n",
       "    .dataframe tbody tr th {\n",
       "        vertical-align: top;\n",
       "    }\n",
       "\n",
       "    .dataframe thead th {\n",
       "        text-align: right;\n",
       "    }\n",
       "</style>\n",
       "<table border=\"1\" class=\"dataframe\">\n",
       "  <thead>\n",
       "    <tr style=\"text-align: right;\">\n",
       "      <th></th>\n",
       "      <th>count</th>\n",
       "      <th>mean</th>\n",
       "      <th>std</th>\n",
       "      <th>min</th>\n",
       "      <th>25%</th>\n",
       "      <th>50%</th>\n",
       "      <th>75%</th>\n",
       "      <th>max</th>\n",
       "    </tr>\n",
       "  </thead>\n",
       "  <tbody>\n",
       "    <tr>\n",
       "      <th>carat</th>\n",
       "      <td>53943.0</td>\n",
       "      <td>0.797935</td>\n",
       "      <td>0.473999</td>\n",
       "      <td>0.2</td>\n",
       "      <td>0.40</td>\n",
       "      <td>0.70</td>\n",
       "      <td>1.04</td>\n",
       "      <td>5.01</td>\n",
       "    </tr>\n",
       "    <tr>\n",
       "      <th>depth</th>\n",
       "      <td>53943.0</td>\n",
       "      <td>61.749322</td>\n",
       "      <td>1.432626</td>\n",
       "      <td>43.0</td>\n",
       "      <td>61.00</td>\n",
       "      <td>61.80</td>\n",
       "      <td>62.50</td>\n",
       "      <td>79.00</td>\n",
       "    </tr>\n",
       "    <tr>\n",
       "      <th>table</th>\n",
       "      <td>53943.0</td>\n",
       "      <td>57.457251</td>\n",
       "      <td>2.234549</td>\n",
       "      <td>43.0</td>\n",
       "      <td>56.00</td>\n",
       "      <td>57.00</td>\n",
       "      <td>59.00</td>\n",
       "      <td>95.00</td>\n",
       "    </tr>\n",
       "    <tr>\n",
       "      <th>price</th>\n",
       "      <td>53943.0</td>\n",
       "      <td>3932.734294</td>\n",
       "      <td>3989.338447</td>\n",
       "      <td>326.0</td>\n",
       "      <td>950.00</td>\n",
       "      <td>2401.00</td>\n",
       "      <td>5324.00</td>\n",
       "      <td>18823.00</td>\n",
       "    </tr>\n",
       "    <tr>\n",
       "      <th>x</th>\n",
       "      <td>53943.0</td>\n",
       "      <td>5.731158</td>\n",
       "      <td>1.121730</td>\n",
       "      <td>0.0</td>\n",
       "      <td>4.71</td>\n",
       "      <td>5.70</td>\n",
       "      <td>6.54</td>\n",
       "      <td>10.74</td>\n",
       "    </tr>\n",
       "    <tr>\n",
       "      <th>y</th>\n",
       "      <td>53943.0</td>\n",
       "      <td>5.734526</td>\n",
       "      <td>1.142103</td>\n",
       "      <td>0.0</td>\n",
       "      <td>4.72</td>\n",
       "      <td>5.71</td>\n",
       "      <td>6.54</td>\n",
       "      <td>58.90</td>\n",
       "    </tr>\n",
       "    <tr>\n",
       "      <th>z</th>\n",
       "      <td>53943.0</td>\n",
       "      <td>3.538730</td>\n",
       "      <td>0.705679</td>\n",
       "      <td>0.0</td>\n",
       "      <td>2.91</td>\n",
       "      <td>3.53</td>\n",
       "      <td>4.04</td>\n",
       "      <td>31.80</td>\n",
       "    </tr>\n",
       "  </tbody>\n",
       "</table>\n",
       "</div>"
      ],
      "text/plain": [
       "         count         mean          std    min     25%      50%      75%  \\\n",
       "carat  53943.0     0.797935     0.473999    0.2    0.40     0.70     1.04   \n",
       "depth  53943.0    61.749322     1.432626   43.0   61.00    61.80    62.50   \n",
       "table  53943.0    57.457251     2.234549   43.0   56.00    57.00    59.00   \n",
       "price  53943.0  3932.734294  3989.338447  326.0  950.00  2401.00  5324.00   \n",
       "x      53943.0     5.731158     1.121730    0.0    4.71     5.70     6.54   \n",
       "y      53943.0     5.734526     1.142103    0.0    4.72     5.71     6.54   \n",
       "z      53943.0     3.538730     0.705679    0.0    2.91     3.53     4.04   \n",
       "\n",
       "            max  \n",
       "carat      5.01  \n",
       "depth     79.00  \n",
       "table     95.00  \n",
       "price  18823.00  \n",
       "x         10.74  \n",
       "y         58.90  \n",
       "z         31.80  "
      ]
     },
     "execution_count": 6,
     "metadata": {},
     "output_type": "execute_result"
    }
   ],
   "source": [
    "df.describe().T"
   ]
  },
  {
   "cell_type": "code",
   "execution_count": 7,
   "id": "d6e1020a",
   "metadata": {
    "execution": {
     "iopub.execute_input": "2022-08-03T00:37:47.126558Z",
     "iopub.status.busy": "2022-08-03T00:37:47.125938Z",
     "iopub.status.idle": "2022-08-03T00:37:47.190731Z",
     "shell.execute_reply": "2022-08-03T00:37:47.189469Z"
    },
    "papermill": {
     "duration": 0.079075,
     "end_time": "2022-08-03T00:37:47.193252",
     "exception": false,
     "start_time": "2022-08-03T00:37:47.114177",
     "status": "completed"
    },
    "tags": []
   },
   "outputs": [
    {
     "data": {
      "text/html": [
       "<div>\n",
       "<style scoped>\n",
       "    .dataframe tbody tr th:only-of-type {\n",
       "        vertical-align: middle;\n",
       "    }\n",
       "\n",
       "    .dataframe tbody tr th {\n",
       "        vertical-align: top;\n",
       "    }\n",
       "\n",
       "    .dataframe thead th {\n",
       "        text-align: right;\n",
       "    }\n",
       "</style>\n",
       "<table border=\"1\" class=\"dataframe\">\n",
       "  <thead>\n",
       "    <tr style=\"text-align: right;\">\n",
       "      <th></th>\n",
       "      <th>count</th>\n",
       "      <th>mean</th>\n",
       "      <th>std</th>\n",
       "      <th>min</th>\n",
       "      <th>25%</th>\n",
       "      <th>50%</th>\n",
       "      <th>75%</th>\n",
       "      <th>max</th>\n",
       "    </tr>\n",
       "  </thead>\n",
       "  <tbody>\n",
       "    <tr>\n",
       "      <th>carat</th>\n",
       "      <td>53923.0</td>\n",
       "      <td>0.797693</td>\n",
       "      <td>0.473783</td>\n",
       "      <td>0.20</td>\n",
       "      <td>0.40</td>\n",
       "      <td>0.70</td>\n",
       "      <td>1.04</td>\n",
       "      <td>5.01</td>\n",
       "    </tr>\n",
       "    <tr>\n",
       "      <th>depth</th>\n",
       "      <td>53923.0</td>\n",
       "      <td>61.749432</td>\n",
       "      <td>1.432336</td>\n",
       "      <td>43.00</td>\n",
       "      <td>61.00</td>\n",
       "      <td>61.80</td>\n",
       "      <td>62.50</td>\n",
       "      <td>79.00</td>\n",
       "    </tr>\n",
       "    <tr>\n",
       "      <th>table</th>\n",
       "      <td>53923.0</td>\n",
       "      <td>57.456902</td>\n",
       "      <td>2.234123</td>\n",
       "      <td>43.00</td>\n",
       "      <td>56.00</td>\n",
       "      <td>57.00</td>\n",
       "      <td>59.00</td>\n",
       "      <td>95.00</td>\n",
       "    </tr>\n",
       "    <tr>\n",
       "      <th>price</th>\n",
       "      <td>53923.0</td>\n",
       "      <td>3930.927879</td>\n",
       "      <td>3987.179153</td>\n",
       "      <td>326.00</td>\n",
       "      <td>949.00</td>\n",
       "      <td>2401.00</td>\n",
       "      <td>5322.50</td>\n",
       "      <td>18823.00</td>\n",
       "    </tr>\n",
       "    <tr>\n",
       "      <th>x</th>\n",
       "      <td>53923.0</td>\n",
       "      <td>5.731628</td>\n",
       "      <td>1.119392</td>\n",
       "      <td>3.73</td>\n",
       "      <td>4.71</td>\n",
       "      <td>5.70</td>\n",
       "      <td>6.54</td>\n",
       "      <td>10.74</td>\n",
       "    </tr>\n",
       "    <tr>\n",
       "      <th>y</th>\n",
       "      <td>53923.0</td>\n",
       "      <td>5.734888</td>\n",
       "      <td>1.140094</td>\n",
       "      <td>3.68</td>\n",
       "      <td>4.72</td>\n",
       "      <td>5.71</td>\n",
       "      <td>6.54</td>\n",
       "      <td>58.90</td>\n",
       "    </tr>\n",
       "    <tr>\n",
       "      <th>z</th>\n",
       "      <td>53923.0</td>\n",
       "      <td>3.540042</td>\n",
       "      <td>0.702511</td>\n",
       "      <td>1.07</td>\n",
       "      <td>2.91</td>\n",
       "      <td>3.53</td>\n",
       "      <td>4.04</td>\n",
       "      <td>31.80</td>\n",
       "    </tr>\n",
       "  </tbody>\n",
       "</table>\n",
       "</div>"
      ],
      "text/plain": [
       "         count         mean          std     min     25%      50%      75%  \\\n",
       "carat  53923.0     0.797693     0.473783    0.20    0.40     0.70     1.04   \n",
       "depth  53923.0    61.749432     1.432336   43.00   61.00    61.80    62.50   \n",
       "table  53923.0    57.456902     2.234123   43.00   56.00    57.00    59.00   \n",
       "price  53923.0  3930.927879  3987.179153  326.00  949.00  2401.00  5322.50   \n",
       "x      53923.0     5.731628     1.119392    3.73    4.71     5.70     6.54   \n",
       "y      53923.0     5.734888     1.140094    3.68    4.72     5.71     6.54   \n",
       "z      53923.0     3.540042     0.702511    1.07    2.91     3.53     4.04   \n",
       "\n",
       "            max  \n",
       "carat      5.01  \n",
       "depth     79.00  \n",
       "table     95.00  \n",
       "price  18823.00  \n",
       "x         10.74  \n",
       "y         58.90  \n",
       "z         31.80  "
      ]
     },
     "execution_count": 7,
     "metadata": {},
     "output_type": "execute_result"
    }
   ],
   "source": [
    "df=df[df['x'] >0]\n",
    "df=df[df['y'] >0]\n",
    "df=df[df['z'] >0]\n",
    "df.describe().T"
   ]
  },
  {
   "cell_type": "code",
   "execution_count": 8,
   "id": "3e9c8d30",
   "metadata": {
    "execution": {
     "iopub.execute_input": "2022-08-03T00:37:47.217514Z",
     "iopub.status.busy": "2022-08-03T00:37:47.216329Z",
     "iopub.status.idle": "2022-08-03T00:37:47.713867Z",
     "shell.execute_reply": "2022-08-03T00:37:47.712760Z"
    },
    "papermill": {
     "duration": 0.512036,
     "end_time": "2022-08-03T00:37:47.716313",
     "exception": false,
     "start_time": "2022-08-03T00:37:47.204277",
     "status": "completed"
    },
    "tags": []
   },
   "outputs": [
    {
     "data": {
      "image/png": "[encoded data removed]",
      "text/plain": [
       "<Figure size 576x576 with 2 Axes>"
      ]
     },
     "metadata": {},
     "output_type": "display_data"
    }
   ],
   "source": [
    "plt.figure(figsize=(8,8))\n",
    "sns.heatmap(df.corr(),annot=True)\n",
    "plt.title(\"Correlations Between Variables\", size=15)\n",
    "plt.show()"
   ]
  },
  {
   "cell_type": "code",
   "execution_count": 9,
   "id": "ce1aa576",
   "metadata": {
    "execution": {
     "iopub.execute_input": "2022-08-03T00:37:47.741555Z",
     "iopub.status.busy": "2022-08-03T00:37:47.740799Z",
     "iopub.status.idle": "2022-08-03T00:37:47.766882Z",
     "shell.execute_reply": "2022-08-03T00:37:47.765804Z"
    },
    "papermill": {
     "duration": 0.041453,
     "end_time": "2022-08-03T00:37:47.769276",
     "exception": false,
     "start_time": "2022-08-03T00:37:47.727823",
     "status": "completed"
    },
    "tags": []
   },
   "outputs": [
    {
     "data": {
      "text/html": [
       "<div>\n",
       "<style scoped>\n",
       "    .dataframe tbody tr th:only-of-type {\n",
       "        vertical-align: middle;\n",
       "    }\n",
       "\n",
       "    .dataframe tbody tr th {\n",
       "        vertical-align: top;\n",
       "    }\n",
       "\n",
       "    .dataframe thead th {\n",
       "        text-align: right;\n",
       "    }\n",
       "</style>\n",
       "<table border=\"1\" class=\"dataframe\">\n",
       "  <thead>\n",
       "    <tr style=\"text-align: right;\">\n",
       "      <th></th>\n",
       "      <th>carat</th>\n",
       "      <th>cut</th>\n",
       "      <th>color</th>\n",
       "      <th>clarity</th>\n",
       "      <th>depth</th>\n",
       "      <th>table</th>\n",
       "      <th>price</th>\n",
       "      <th>x</th>\n",
       "      <th>y</th>\n",
       "      <th>z</th>\n",
       "      <th>log_price</th>\n",
       "    </tr>\n",
       "  </thead>\n",
       "  <tbody>\n",
       "    <tr>\n",
       "      <th>0</th>\n",
       "      <td>0.23</td>\n",
       "      <td>Ideal</td>\n",
       "      <td>E</td>\n",
       "      <td>SI2</td>\n",
       "      <td>61.5</td>\n",
       "      <td>55.0</td>\n",
       "      <td>326</td>\n",
       "      <td>3.95</td>\n",
       "      <td>3.98</td>\n",
       "      <td>2.43</td>\n",
       "      <td>5.786897</td>\n",
       "    </tr>\n",
       "    <tr>\n",
       "      <th>1</th>\n",
       "      <td>0.21</td>\n",
       "      <td>Premium</td>\n",
       "      <td>E</td>\n",
       "      <td>SI1</td>\n",
       "      <td>59.8</td>\n",
       "      <td>61.0</td>\n",
       "      <td>326</td>\n",
       "      <td>3.89</td>\n",
       "      <td>3.84</td>\n",
       "      <td>2.31</td>\n",
       "      <td>5.786897</td>\n",
       "    </tr>\n",
       "    <tr>\n",
       "      <th>2</th>\n",
       "      <td>0.23</td>\n",
       "      <td>Good</td>\n",
       "      <td>E</td>\n",
       "      <td>VS1</td>\n",
       "      <td>56.9</td>\n",
       "      <td>65.0</td>\n",
       "      <td>327</td>\n",
       "      <td>4.05</td>\n",
       "      <td>4.07</td>\n",
       "      <td>2.31</td>\n",
       "      <td>5.789960</td>\n",
       "    </tr>\n",
       "    <tr>\n",
       "      <th>3</th>\n",
       "      <td>0.29</td>\n",
       "      <td>Premium</td>\n",
       "      <td>I</td>\n",
       "      <td>VS2</td>\n",
       "      <td>62.4</td>\n",
       "      <td>58.0</td>\n",
       "      <td>334</td>\n",
       "      <td>4.20</td>\n",
       "      <td>4.23</td>\n",
       "      <td>2.63</td>\n",
       "      <td>5.811141</td>\n",
       "    </tr>\n",
       "    <tr>\n",
       "      <th>4</th>\n",
       "      <td>0.31</td>\n",
       "      <td>Good</td>\n",
       "      <td>J</td>\n",
       "      <td>SI2</td>\n",
       "      <td>63.3</td>\n",
       "      <td>58.0</td>\n",
       "      <td>335</td>\n",
       "      <td>4.34</td>\n",
       "      <td>4.35</td>\n",
       "      <td>2.75</td>\n",
       "      <td>5.814131</td>\n",
       "    </tr>\n",
       "    <tr>\n",
       "      <th>...</th>\n",
       "      <td>...</td>\n",
       "      <td>...</td>\n",
       "      <td>...</td>\n",
       "      <td>...</td>\n",
       "      <td>...</td>\n",
       "      <td>...</td>\n",
       "      <td>...</td>\n",
       "      <td>...</td>\n",
       "      <td>...</td>\n",
       "      <td>...</td>\n",
       "      <td>...</td>\n",
       "    </tr>\n",
       "    <tr>\n",
       "      <th>53938</th>\n",
       "      <td>0.86</td>\n",
       "      <td>Premium</td>\n",
       "      <td>H</td>\n",
       "      <td>SI2</td>\n",
       "      <td>61.0</td>\n",
       "      <td>58.0</td>\n",
       "      <td>2757</td>\n",
       "      <td>6.15</td>\n",
       "      <td>6.12</td>\n",
       "      <td>3.74</td>\n",
       "      <td>7.921898</td>\n",
       "    </tr>\n",
       "    <tr>\n",
       "      <th>53939</th>\n",
       "      <td>0.75</td>\n",
       "      <td>Ideal</td>\n",
       "      <td>D</td>\n",
       "      <td>SI2</td>\n",
       "      <td>62.2</td>\n",
       "      <td>55.0</td>\n",
       "      <td>2757</td>\n",
       "      <td>5.83</td>\n",
       "      <td>5.87</td>\n",
       "      <td>3.64</td>\n",
       "      <td>7.921898</td>\n",
       "    </tr>\n",
       "    <tr>\n",
       "      <th>53940</th>\n",
       "      <td>0.71</td>\n",
       "      <td>Premium</td>\n",
       "      <td>E</td>\n",
       "      <td>SI1</td>\n",
       "      <td>60.5</td>\n",
       "      <td>55.0</td>\n",
       "      <td>2756</td>\n",
       "      <td>5.79</td>\n",
       "      <td>5.74</td>\n",
       "      <td>3.49</td>\n",
       "      <td>7.921536</td>\n",
       "    </tr>\n",
       "    <tr>\n",
       "      <th>53941</th>\n",
       "      <td>0.71</td>\n",
       "      <td>Premium</td>\n",
       "      <td>F</td>\n",
       "      <td>SI1</td>\n",
       "      <td>59.8</td>\n",
       "      <td>62.0</td>\n",
       "      <td>2756</td>\n",
       "      <td>5.74</td>\n",
       "      <td>5.73</td>\n",
       "      <td>3.43</td>\n",
       "      <td>7.921536</td>\n",
       "    </tr>\n",
       "    <tr>\n",
       "      <th>53942</th>\n",
       "      <td>0.70</td>\n",
       "      <td>Very Good</td>\n",
       "      <td>E</td>\n",
       "      <td>VS2</td>\n",
       "      <td>60.5</td>\n",
       "      <td>59.0</td>\n",
       "      <td>2757</td>\n",
       "      <td>5.71</td>\n",
       "      <td>5.76</td>\n",
       "      <td>3.47</td>\n",
       "      <td>7.921898</td>\n",
       "    </tr>\n",
       "  </tbody>\n",
       "</table>\n",
       "<p>53923 rows × 11 columns</p>\n",
       "</div>"
      ],
      "text/plain": [
       "       carat        cut color clarity  depth  table  price     x     y     z  \\\n",
       "0       0.23      Ideal     E     SI2   61.5   55.0    326  3.95  3.98  2.43   \n",
       "1       0.21    Premium     E     SI1   59.8   61.0    326  3.89  3.84  2.31   \n",
       "2       0.23       Good     E     VS1   56.9   65.0    327  4.05  4.07  2.31   \n",
       "3       0.29    Premium     I     VS2   62.4   58.0    334  4.20  4.23  2.63   \n",
       "4       0.31       Good     J     SI2   63.3   58.0    335  4.34  4.35  2.75   \n",
       "...      ...        ...   ...     ...    ...    ...    ...   ...   ...   ...   \n",
       "53938   0.86    Premium     H     SI2   61.0   58.0   2757  6.15  6.12  3.74   \n",
       "53939   0.75      Ideal     D     SI2   62.2   55.0   2757  5.83  5.87  3.64   \n",
       "53940   0.71    Premium     E     SI1   60.5   55.0   2756  5.79  5.74  3.49   \n",
       "53941   0.71    Premium     F     SI1   59.8   62.0   2756  5.74  5.73  3.43   \n",
       "53942   0.70  Very Good     E     VS2   60.5   59.0   2757  5.71  5.76  3.47   \n",
       "\n",
       "       log_price  \n",
       "0       5.786897  \n",
       "1       5.786897  \n",
       "2       5.789960  \n",
       "3       5.811141  \n",
       "4       5.814131  \n",
       "...          ...  \n",
       "53938   7.921898  \n",
       "53939   7.921898  \n",
       "53940   7.921536  \n",
       "53941   7.921536  \n",
       "53942   7.921898  \n",
       "\n",
       "[53923 rows x 11 columns]"
      ]
     },
     "execution_count": 9,
     "metadata": {},
     "output_type": "execute_result"
    }
   ],
   "source": [
    "df['log_price']=np.log(df['price'])\n",
    "df"
   ]
  },
  {
   "cell_type": "code",
   "execution_count": 10,
   "id": "76ac6674",
   "metadata": {
    "execution": {
     "iopub.execute_input": "2022-08-03T00:37:47.794607Z",
     "iopub.status.busy": "2022-08-03T00:37:47.794203Z",
     "iopub.status.idle": "2022-08-03T00:37:48.386291Z",
     "shell.execute_reply": "2022-08-03T00:37:48.385532Z"
    },
    "papermill": {
     "duration": 0.607291,
     "end_time": "2022-08-03T00:37:48.388432",
     "exception": false,
     "start_time": "2022-08-03T00:37:47.781141",
     "status": "completed"
    },
    "tags": []
   },
   "outputs": [
    {
     "data": {
      "image/png": "[encoded data removed]",
      "text/plain": [
       "<Figure size 504x504 with 1 Axes>"
      ]
     },
     "metadata": {},
     "output_type": "display_data"
    }
   ],
   "source": [
    "plt.figure(figsize=(7,7))\n",
    "x=np.linspace(4,8,10)\n",
    "plt.scatter(df['x'],df['log_price'])\n",
    "plt.xlabel(\"x\")\n",
    "plt.ylabel('log_price')\n",
    "plt.legend()\n",
    "plt.title(\"log price and x relationship\")\n",
    "plt.plot(x,x+2,color='r')\n",
    "plt.show()"
   ]
  },
  {
   "cell_type": "code",
   "execution_count": 11,
   "id": "e7e4dd95",
   "metadata": {
    "execution": {
     "iopub.execute_input": "2022-08-03T00:37:48.415130Z",
     "iopub.status.busy": "2022-08-03T00:37:48.414485Z",
     "iopub.status.idle": "2022-08-03T00:37:48.497883Z",
     "shell.execute_reply": "2022-08-03T00:37:48.496774Z"
    },
    "papermill": {
     "duration": 0.099363,
     "end_time": "2022-08-03T00:37:48.500306",
     "exception": false,
     "start_time": "2022-08-03T00:37:48.400943",
     "status": "completed"
    },
    "tags": []
   },
   "outputs": [
    {
     "data": {
      "text/html": [
       "<div>\n",
       "<style scoped>\n",
       "    .dataframe tbody tr th:only-of-type {\n",
       "        vertical-align: middle;\n",
       "    }\n",
       "\n",
       "    .dataframe tbody tr th {\n",
       "        vertical-align: top;\n",
       "    }\n",
       "\n",
       "    .dataframe thead th {\n",
       "        text-align: right;\n",
       "    }\n",
       "</style>\n",
       "<table border=\"1\" class=\"dataframe\">\n",
       "  <thead>\n",
       "    <tr style=\"text-align: right;\">\n",
       "      <th></th>\n",
       "      <th>carat</th>\n",
       "      <th>depth</th>\n",
       "      <th>table</th>\n",
       "      <th>x</th>\n",
       "      <th>y</th>\n",
       "      <th>z</th>\n",
       "      <th>cut_Fair</th>\n",
       "      <th>cut_Good</th>\n",
       "      <th>cut_Ideal</th>\n",
       "      <th>cut_Premium</th>\n",
       "      <th>...</th>\n",
       "      <th>color_I</th>\n",
       "      <th>color_J</th>\n",
       "      <th>clarity_I1</th>\n",
       "      <th>clarity_IF</th>\n",
       "      <th>clarity_SI1</th>\n",
       "      <th>clarity_SI2</th>\n",
       "      <th>clarity_VS1</th>\n",
       "      <th>clarity_VS2</th>\n",
       "      <th>clarity_VVS1</th>\n",
       "      <th>clarity_VVS2</th>\n",
       "    </tr>\n",
       "  </thead>\n",
       "  <tbody>\n",
       "    <tr>\n",
       "      <th>0</th>\n",
       "      <td>0.23</td>\n",
       "      <td>61.5</td>\n",
       "      <td>55.0</td>\n",
       "      <td>3.95</td>\n",
       "      <td>3.98</td>\n",
       "      <td>2.43</td>\n",
       "      <td>0</td>\n",
       "      <td>0</td>\n",
       "      <td>1</td>\n",
       "      <td>0</td>\n",
       "      <td>...</td>\n",
       "      <td>0</td>\n",
       "      <td>0</td>\n",
       "      <td>0</td>\n",
       "      <td>0</td>\n",
       "      <td>0</td>\n",
       "      <td>1</td>\n",
       "      <td>0</td>\n",
       "      <td>0</td>\n",
       "      <td>0</td>\n",
       "      <td>0</td>\n",
       "    </tr>\n",
       "    <tr>\n",
       "      <th>1</th>\n",
       "      <td>0.21</td>\n",
       "      <td>59.8</td>\n",
       "      <td>61.0</td>\n",
       "      <td>3.89</td>\n",
       "      <td>3.84</td>\n",
       "      <td>2.31</td>\n",
       "      <td>0</td>\n",
       "      <td>0</td>\n",
       "      <td>0</td>\n",
       "      <td>1</td>\n",
       "      <td>...</td>\n",
       "      <td>0</td>\n",
       "      <td>0</td>\n",
       "      <td>0</td>\n",
       "      <td>0</td>\n",
       "      <td>1</td>\n",
       "      <td>0</td>\n",
       "      <td>0</td>\n",
       "      <td>0</td>\n",
       "      <td>0</td>\n",
       "      <td>0</td>\n",
       "    </tr>\n",
       "    <tr>\n",
       "      <th>2</th>\n",
       "      <td>0.23</td>\n",
       "      <td>56.9</td>\n",
       "      <td>65.0</td>\n",
       "      <td>4.05</td>\n",
       "      <td>4.07</td>\n",
       "      <td>2.31</td>\n",
       "      <td>0</td>\n",
       "      <td>1</td>\n",
       "      <td>0</td>\n",
       "      <td>0</td>\n",
       "      <td>...</td>\n",
       "      <td>0</td>\n",
       "      <td>0</td>\n",
       "      <td>0</td>\n",
       "      <td>0</td>\n",
       "      <td>0</td>\n",
       "      <td>0</td>\n",
       "      <td>1</td>\n",
       "      <td>0</td>\n",
       "      <td>0</td>\n",
       "      <td>0</td>\n",
       "    </tr>\n",
       "    <tr>\n",
       "      <th>3</th>\n",
       "      <td>0.29</td>\n",
       "      <td>62.4</td>\n",
       "      <td>58.0</td>\n",
       "      <td>4.20</td>\n",
       "      <td>4.23</td>\n",
       "      <td>2.63</td>\n",
       "      <td>0</td>\n",
       "      <td>0</td>\n",
       "      <td>0</td>\n",
       "      <td>1</td>\n",
       "      <td>...</td>\n",
       "      <td>1</td>\n",
       "      <td>0</td>\n",
       "      <td>0</td>\n",
       "      <td>0</td>\n",
       "      <td>0</td>\n",
       "      <td>0</td>\n",
       "      <td>0</td>\n",
       "      <td>1</td>\n",
       "      <td>0</td>\n",
       "      <td>0</td>\n",
       "    </tr>\n",
       "    <tr>\n",
       "      <th>4</th>\n",
       "      <td>0.31</td>\n",
       "      <td>63.3</td>\n",
       "      <td>58.0</td>\n",
       "      <td>4.34</td>\n",
       "      <td>4.35</td>\n",
       "      <td>2.75</td>\n",
       "      <td>0</td>\n",
       "      <td>1</td>\n",
       "      <td>0</td>\n",
       "      <td>0</td>\n",
       "      <td>...</td>\n",
       "      <td>0</td>\n",
       "      <td>1</td>\n",
       "      <td>0</td>\n",
       "      <td>0</td>\n",
       "      <td>0</td>\n",
       "      <td>1</td>\n",
       "      <td>0</td>\n",
       "      <td>0</td>\n",
       "      <td>0</td>\n",
       "      <td>0</td>\n",
       "    </tr>\n",
       "    <tr>\n",
       "      <th>...</th>\n",
       "      <td>...</td>\n",
       "      <td>...</td>\n",
       "      <td>...</td>\n",
       "      <td>...</td>\n",
       "      <td>...</td>\n",
       "      <td>...</td>\n",
       "      <td>...</td>\n",
       "      <td>...</td>\n",
       "      <td>...</td>\n",
       "      <td>...</td>\n",
       "      <td>...</td>\n",
       "      <td>...</td>\n",
       "      <td>...</td>\n",
       "      <td>...</td>\n",
       "      <td>...</td>\n",
       "      <td>...</td>\n",
       "      <td>...</td>\n",
       "      <td>...</td>\n",
       "      <td>...</td>\n",
       "      <td>...</td>\n",
       "      <td>...</td>\n",
       "    </tr>\n",
       "    <tr>\n",
       "      <th>53938</th>\n",
       "      <td>0.86</td>\n",
       "      <td>61.0</td>\n",
       "      <td>58.0</td>\n",
       "      <td>6.15</td>\n",
       "      <td>6.12</td>\n",
       "      <td>3.74</td>\n",
       "      <td>0</td>\n",
       "      <td>0</td>\n",
       "      <td>0</td>\n",
       "      <td>1</td>\n",
       "      <td>...</td>\n",
       "      <td>0</td>\n",
       "      <td>0</td>\n",
       "      <td>0</td>\n",
       "      <td>0</td>\n",
       "      <td>0</td>\n",
       "      <td>1</td>\n",
       "      <td>0</td>\n",
       "      <td>0</td>\n",
       "      <td>0</td>\n",
       "      <td>0</td>\n",
       "    </tr>\n",
       "    <tr>\n",
       "      <th>53939</th>\n",
       "      <td>0.75</td>\n",
       "      <td>62.2</td>\n",
       "      <td>55.0</td>\n",
       "      <td>5.83</td>\n",
       "      <td>5.87</td>\n",
       "      <td>3.64</td>\n",
       "      <td>0</td>\n",
       "      <td>0</td>\n",
       "      <td>1</td>\n",
       "      <td>0</td>\n",
       "      <td>...</td>\n",
       "      <td>0</td>\n",
       "      <td>0</td>\n",
       "      <td>0</td>\n",
       "      <td>0</td>\n",
       "      <td>0</td>\n",
       "      <td>1</td>\n",
       "      <td>0</td>\n",
       "      <td>0</td>\n",
       "      <td>0</td>\n",
       "      <td>0</td>\n",
       "    </tr>\n",
       "    <tr>\n",
       "      <th>53940</th>\n",
       "      <td>0.71</td>\n",
       "      <td>60.5</td>\n",
       "      <td>55.0</td>\n",
       "      <td>5.79</td>\n",
       "      <td>5.74</td>\n",
       "      <td>3.49</td>\n",
       "      <td>0</td>\n",
       "      <td>0</td>\n",
       "      <td>0</td>\n",
       "      <td>1</td>\n",
       "      <td>...</td>\n",
       "      <td>0</td>\n",
       "      <td>0</td>\n",
       "      <td>0</td>\n",
       "      <td>0</td>\n",
       "      <td>1</td>\n",
       "      <td>0</td>\n",
       "      <td>0</td>\n",
       "      <td>0</td>\n",
       "      <td>0</td>\n",
       "      <td>0</td>\n",
       "    </tr>\n",
       "    <tr>\n",
       "      <th>53941</th>\n",
       "      <td>0.71</td>\n",
       "      <td>59.8</td>\n",
       "      <td>62.0</td>\n",
       "      <td>5.74</td>\n",
       "      <td>5.73</td>\n",
       "      <td>3.43</td>\n",
       "      <td>0</td>\n",
       "      <td>0</td>\n",
       "      <td>0</td>\n",
       "      <td>1</td>\n",
       "      <td>...</td>\n",
       "      <td>0</td>\n",
       "      <td>0</td>\n",
       "      <td>0</td>\n",
       "      <td>0</td>\n",
       "      <td>1</td>\n",
       "      <td>0</td>\n",
       "      <td>0</td>\n",
       "      <td>0</td>\n",
       "      <td>0</td>\n",
       "      <td>0</td>\n",
       "    </tr>\n",
       "    <tr>\n",
       "      <th>53942</th>\n",
       "      <td>0.70</td>\n",
       "      <td>60.5</td>\n",
       "      <td>59.0</td>\n",
       "      <td>5.71</td>\n",
       "      <td>5.76</td>\n",
       "      <td>3.47</td>\n",
       "      <td>0</td>\n",
       "      <td>0</td>\n",
       "      <td>0</td>\n",
       "      <td>0</td>\n",
       "      <td>...</td>\n",
       "      <td>0</td>\n",
       "      <td>0</td>\n",
       "      <td>0</td>\n",
       "      <td>0</td>\n",
       "      <td>0</td>\n",
       "      <td>0</td>\n",
       "      <td>0</td>\n",
       "      <td>1</td>\n",
       "      <td>0</td>\n",
       "      <td>0</td>\n",
       "    </tr>\n",
       "  </tbody>\n",
       "</table>\n",
       "<p>53923 rows × 26 columns</p>\n",
       "</div>"
      ],
      "text/plain": [
       "       carat  depth  table     x     y     z  cut_Fair  cut_Good  cut_Ideal  \\\n",
       "0       0.23   61.5   55.0  3.95  3.98  2.43         0         0          1   \n",
       "1       0.21   59.8   61.0  3.89  3.84  2.31         0         0          0   \n",
       "2       0.23   56.9   65.0  4.05  4.07  2.31         0         1          0   \n",
       "3       0.29   62.4   58.0  4.20  4.23  2.63         0         0          0   \n",
       "4       0.31   63.3   58.0  4.34  4.35  2.75         0         1          0   \n",
       "...      ...    ...    ...   ...   ...   ...       ...       ...        ...   \n",
       "53938   0.86   61.0   58.0  6.15  6.12  3.74         0         0          0   \n",
       "53939   0.75   62.2   55.0  5.83  5.87  3.64         0         0          1   \n",
       "53940   0.71   60.5   55.0  5.79  5.74  3.49         0         0          0   \n",
       "53941   0.71   59.8   62.0  5.74  5.73  3.43         0         0          0   \n",
       "53942   0.70   60.5   59.0  5.71  5.76  3.47         0         0          0   \n",
       "\n",
       "       cut_Premium  ...  color_I  color_J  clarity_I1  clarity_IF  \\\n",
       "0                0  ...        0        0           0           0   \n",
       "1                1  ...        0        0           0           0   \n",
       "2                0  ...        0        0           0           0   \n",
       "3                1  ...        1        0           0           0   \n",
       "4                0  ...        0        1           0           0   \n",
       "...            ...  ...      ...      ...         ...         ...   \n",
       "53938            1  ...        0        0           0           0   \n",
       "53939            0  ...        0        0           0           0   \n",
       "53940            1  ...        0        0           0           0   \n",
       "53941            1  ...        0        0           0           0   \n",
       "53942            0  ...        0        0           0           0   \n",
       "\n",
       "       clarity_SI1  clarity_SI2  clarity_VS1  clarity_VS2  clarity_VVS1  \\\n",
       "0                0            1            0            0             0   \n",
       "1                1            0            0            0             0   \n",
       "2                0            0            1            0             0   \n",
       "3                0            0            0            1             0   \n",
       "4                0            1            0            0             0   \n",
       "...            ...          ...          ...          ...           ...   \n",
       "53938            0            1            0            0             0   \n",
       "53939            0            1            0            0             0   \n",
       "53940            1            0            0            0             0   \n",
       "53941            1            0            0            0             0   \n",
       "53942            0            0            0            1             0   \n",
       "\n",
       "       clarity_VVS2  \n",
       "0                 0  \n",
       "1                 0  \n",
       "2                 0  \n",
       "3                 0  \n",
       "4                 0  \n",
       "...             ...  \n",
       "53938             0  \n",
       "53939             0  \n",
       "53940             0  \n",
       "53941             0  \n",
       "53942             0  \n",
       "\n",
       "[53923 rows x 26 columns]"
      ]
     },
     "execution_count": 11,
     "metadata": {},
     "output_type": "execute_result"
    }
   ],
   "source": [
    "X=pd.get_dummies(df.drop(columns=['price','log_price']))\n",
    "y=df.log_price\n",
    "X_train, X_test, y_train, y_test = train_test_split(X, y, test_size=0.33, random_state=42)\n",
    "X"
   ]
  },
  {
   "cell_type": "code",
   "execution_count": 12,
   "id": "413c5d6c",
   "metadata": {
    "execution": {
     "iopub.execute_input": "2022-08-03T00:37:48.527981Z",
     "iopub.status.busy": "2022-08-03T00:37:48.527601Z",
     "iopub.status.idle": "2022-08-03T00:37:48.616710Z",
     "shell.execute_reply": "2022-08-03T00:37:48.614251Z"
    },
    "papermill": {
     "duration": 0.107112,
     "end_time": "2022-08-03T00:37:48.620515",
     "exception": false,
     "start_time": "2022-08-03T00:37:48.513403",
     "status": "completed"
    },
    "tags": []
   },
   "outputs": [
    {
     "data": {
      "text/plain": [
       "0.9809708733825763"
      ]
     },
     "execution_count": 12,
     "metadata": {},
     "output_type": "execute_result"
    }
   ],
   "source": [
    "reg = LinearRegression().fit(X_train, y_train)\n",
    "y_pred=reg.predict(X_test)\n",
    "reg.score(X_test,y_test)"
   ]
  },
  {
   "cell_type": "code",
   "execution_count": 13,
   "id": "5409784f",
   "metadata": {
    "execution": {
     "iopub.execute_input": "2022-08-03T00:37:48.720682Z",
     "iopub.status.busy": "2022-08-03T00:37:48.720256Z",
     "iopub.status.idle": "2022-08-03T00:37:48.733100Z",
     "shell.execute_reply": "2022-08-03T00:37:48.731789Z"
    },
    "papermill": {
     "duration": 0.048119,
     "end_time": "2022-08-03T00:37:48.737426",
     "exception": false,
     "start_time": "2022-08-03T00:37:48.689307",
     "status": "completed"
    },
    "tags": []
   },
   "outputs": [
    {
     "data": {
      "text/plain": [
       "0.9815638090889566"
      ]
     },
     "execution_count": 13,
     "metadata": {},
     "output_type": "execute_result"
    }
   ],
   "source": [
    "reg.score(X_train, y_train)"
   ]
  },
  {
   "cell_type": "code",
   "execution_count": 14,
   "id": "99854b3f",
   "metadata": {
    "execution": {
     "iopub.execute_input": "2022-08-03T00:37:48.807392Z",
     "iopub.status.busy": "2022-08-03T00:37:48.806736Z",
     "iopub.status.idle": "2022-08-03T00:37:48.824864Z",
     "shell.execute_reply": "2022-08-03T00:37:48.823210Z"
    },
    "papermill": {
     "duration": 0.057972,
     "end_time": "2022-08-03T00:37:48.829434",
     "exception": false,
     "start_time": "2022-08-03T00:37:48.771462",
     "status": "completed"
    },
    "tags": []
   },
   "outputs": [
    {
     "data": {
      "text/plain": [
       "0.13959764276831865"
      ]
     },
     "execution_count": 14,
     "metadata": {},
     "output_type": "execute_result"
    }
   ],
   "source": [
    "rmse=np.sqrt(mean_squared_error(y_test,y_pred))\n",
    "rmse"
   ]
  },
  {
   "cell_type": "code",
   "execution_count": 15,
   "id": "f3845c9a",
   "metadata": {
    "execution": {
     "iopub.execute_input": "2022-08-03T00:37:48.869683Z",
     "iopub.status.busy": "2022-08-03T00:37:48.869244Z",
     "iopub.status.idle": "2022-08-03T00:37:49.038225Z",
     "shell.execute_reply": "2022-08-03T00:37:49.037413Z"
    },
    "papermill": {
     "duration": 0.186068,
     "end_time": "2022-08-03T00:37:49.040787",
     "exception": false,
     "start_time": "2022-08-03T00:37:48.854719",
     "status": "completed"
    },
    "tags": []
   },
   "outputs": [
    {
     "data": {
      "text/plain": [
       "<matplotlib.collections.PathCollection at 0x7f485c46c490>"
      ]
     },
     "execution_count": 15,
     "metadata": {},
     "output_type": "execute_result"
    },
    {
     "data": {
      "image/png": "[encoded data removed]",
      "text/plain": [
       "<Figure size 432x288 with 1 Axes>"
      ]
     },
     "metadata": {},
     "output_type": "display_data"
    }
   ],
   "source": [
    "plt.scatter(y_pred,y_test)"
   ]
  },
  {
   "cell_type": "code",
   "execution_count": 16,
   "id": "9326fb48",
   "metadata": {
    "execution": {
     "iopub.execute_input": "2022-08-03T00:37:49.069718Z",
     "iopub.status.busy": "2022-08-03T00:37:49.069304Z",
     "iopub.status.idle": "2022-08-03T00:37:49.089089Z",
     "shell.execute_reply": "2022-08-03T00:37:49.088240Z"
    },
    "papermill": {
     "duration": 0.037083,
     "end_time": "2022-08-03T00:37:49.091619",
     "exception": false,
     "start_time": "2022-08-03T00:37:49.054536",
     "status": "completed"
    },
    "tags": []
   },
   "outputs": [
    {
     "name": "stdout",
     "output_type": "stream",
     "text": [
      "<class 'pandas.core.frame.DataFrame'>\n",
      "Int64Index: 53923 entries, 0 to 53942\n",
      "Data columns (total 11 columns):\n",
      " #   Column     Non-Null Count  Dtype  \n",
      "---  ------     --------------  -----  \n",
      " 0   carat      53923 non-null  float64\n",
      " 1   cut        53923 non-null  object \n",
      " 2   color      53923 non-null  object \n",
      " 3   clarity    53923 non-null  object \n",
      " 4   depth      53923 non-null  float64\n",
      " 5   table      53923 non-null  float64\n",
      " 6   price      53923 non-null  int64  \n",
      " 7   x          53923 non-null  float64\n",
      " 8   y          53923 non-null  float64\n",
      " 9   z          53923 non-null  float64\n",
      " 10  log_price  53923 non-null  float64\n",
      "dtypes: float64(7), int64(1), object(3)\n",
      "memory usage: 4.9+ MB\n"
     ]
    }
   ],
   "source": [
    "df.info()"
   ]
  },
  {
   "cell_type": "code",
   "execution_count": 17,
   "id": "2e227eee",
   "metadata": {
    "execution": {
     "iopub.execute_input": "2022-08-03T00:37:49.121498Z",
     "iopub.status.busy": "2022-08-03T00:37:49.120563Z",
     "iopub.status.idle": "2022-08-03T00:37:49.126084Z",
     "shell.execute_reply": "2022-08-03T00:37:49.125137Z"
    },
    "papermill": {
     "duration": 0.022956,
     "end_time": "2022-08-03T00:37:49.128548",
     "exception": false,
     "start_time": "2022-08-03T00:37:49.105592",
     "status": "completed"
    },
    "tags": []
   },
   "outputs": [],
   "source": [
    "y=df['price'].values\n",
    "X=df['carat'].values"
   ]
  },
  {
   "cell_type": "code",
   "execution_count": 18,
   "id": "7f638b4d",
   "metadata": {
    "execution": {
     "iopub.execute_input": "2022-08-03T00:37:49.157654Z",
     "iopub.status.busy": "2022-08-03T00:37:49.157240Z",
     "iopub.status.idle": "2022-08-03T00:37:49.162868Z",
     "shell.execute_reply": "2022-08-03T00:37:49.161807Z"
    },
    "papermill": {
     "duration": 0.023164,
     "end_time": "2022-08-03T00:37:49.165516",
     "exception": false,
     "start_time": "2022-08-03T00:37:49.142352",
     "status": "completed"
    },
    "tags": []
   },
   "outputs": [
    {
     "name": "stdout",
     "output_type": "stream",
     "text": [
      "(53923,) (53923,)\n"
     ]
    }
   ],
   "source": [
    "print(X.shape,y.shape)"
   ]
  },
  {
   "cell_type": "code",
   "execution_count": 19,
   "id": "b2a0986a",
   "metadata": {
    "execution": {
     "iopub.execute_input": "2022-08-03T00:37:49.195160Z",
     "iopub.status.busy": "2022-08-03T00:37:49.194469Z",
     "iopub.status.idle": "2022-08-03T00:37:49.198998Z",
     "shell.execute_reply": "2022-08-03T00:37:49.198134Z"
    },
    "papermill": {
     "duration": 0.021479,
     "end_time": "2022-08-03T00:37:49.200917",
     "exception": false,
     "start_time": "2022-08-03T00:37:49.179438",
     "status": "completed"
    },
    "tags": []
   },
   "outputs": [],
   "source": [
    "y=y.reshape(-1,1)\n",
    "X=X.reshape(-1,1)"
   ]
  },
  {
   "cell_type": "code",
   "execution_count": 20,
   "id": "ae510e83",
   "metadata": {
    "execution": {
     "iopub.execute_input": "2022-08-03T00:37:49.232233Z",
     "iopub.status.busy": "2022-08-03T00:37:49.230075Z",
     "iopub.status.idle": "2022-08-03T00:37:49.237469Z",
     "shell.execute_reply": "2022-08-03T00:37:49.236168Z"
    },
    "papermill": {
     "duration": 0.025504,
     "end_time": "2022-08-03T00:37:49.240663",
     "exception": false,
     "start_time": "2022-08-03T00:37:49.215159",
     "status": "completed"
    },
    "tags": []
   },
   "outputs": [
    {
     "name": "stdout",
     "output_type": "stream",
     "text": [
      "(53923, 1) (53923, 1)\n"
     ]
    }
   ],
   "source": [
    "print(X.shape,y.shape)"
   ]
  },
  {
   "cell_type": "code",
   "execution_count": 21,
   "id": "7db1a72d",
   "metadata": {
    "execution": {
     "iopub.execute_input": "2022-08-03T00:37:49.271115Z",
     "iopub.status.busy": "2022-08-03T00:37:49.270061Z",
     "iopub.status.idle": "2022-08-03T00:37:49.507644Z",
     "shell.execute_reply": "2022-08-03T00:37:49.506540Z"
    },
    "papermill": {
     "duration": 0.25546,
     "end_time": "2022-08-03T00:37:49.510477",
     "exception": false,
     "start_time": "2022-08-03T00:37:49.255017",
     "status": "completed"
    },
    "tags": []
   },
   "outputs": [
    {
     "data": {
      "image/png": "[encoded data removed]",
      "text/plain": [
       "<Figure size 432x288 with 2 Axes>"
      ]
     },
     "metadata": {},
     "output_type": "display_data"
    }
   ],
   "source": [
    "sns.heatmap(df.corr(),square=True,cmap='RdYlGn')\n",
    "plt.show()"
   ]
  },
  {
   "cell_type": "code",
   "execution_count": 22,
   "id": "a1a41cb5",
   "metadata": {
    "execution": {
     "iopub.execute_input": "2022-08-03T00:37:49.541455Z",
     "iopub.status.busy": "2022-08-03T00:37:49.540673Z",
     "iopub.status.idle": "2022-08-03T00:37:49.817241Z",
     "shell.execute_reply": "2022-08-03T00:37:49.816127Z"
    },
    "papermill": {
     "duration": 0.294826,
     "end_time": "2022-08-03T00:37:49.819692",
     "exception": false,
     "start_time": "2022-08-03T00:37:49.524866",
     "status": "completed"
    },
    "tags": []
   },
   "outputs": [
    {
     "name": "stdout",
     "output_type": "stream",
     "text": [
      "0.8493318856166829\n"
     ]
    },
    {
     "data": {
      "text/plain": [
       "[<matplotlib.lines.Line2D at 0x7f485c2c1710>]"
      ]
     },
     "execution_count": 22,
     "metadata": {},
     "output_type": "execute_result"
    },
    {
     "data": {
      "image/png": "[encoded data removed]",
      "text/plain": [
       "<Figure size 432x288 with 1 Axes>"
      ]
     },
     "metadata": {},
     "output_type": "display_data"
    }
   ],
   "source": [
    "reg = LinearRegression()\n",
    "prediction_space=np.linspace(min(X), max(X)).reshape(-1,1)\n",
    "reg.fit(X,y)\n",
    "y_pred=reg.predict(prediction_space)\n",
    "print(reg.score(X,y))\n",
    "plt.plot(prediction_space,y_pred,color='black',linewidth=3)"
   ]
  },
  {
   "cell_type": "code",
   "execution_count": 23,
   "id": "4f82889d",
   "metadata": {
    "execution": {
     "iopub.execute_input": "2022-08-03T00:37:49.851626Z",
     "iopub.status.busy": "2022-08-03T00:37:49.850852Z",
     "iopub.status.idle": "2022-08-03T00:37:49.855328Z",
     "shell.execute_reply": "2022-08-03T00:37:49.854399Z"
    },
    "papermill": {
     "duration": 0.022633,
     "end_time": "2022-08-03T00:37:49.857476",
     "exception": false,
     "start_time": "2022-08-03T00:37:49.834843",
     "status": "completed"
    },
    "tags": []
   },
   "outputs": [],
   "source": [
    "#rmse=np.sqrt(mean_squared_error(y_test,y_pred))\n",
    "#rmse"
   ]
  },
  {
   "cell_type": "code",
   "execution_count": 24,
   "id": "79f6db30",
   "metadata": {
    "execution": {
     "iopub.execute_input": "2022-08-03T00:37:49.889489Z",
     "iopub.status.busy": "2022-08-03T00:37:49.889112Z",
     "iopub.status.idle": "2022-08-03T00:37:49.895766Z",
     "shell.execute_reply": "2022-08-03T00:37:49.894601Z"
    },
    "papermill": {
     "duration": 0.025404,
     "end_time": "2022-08-03T00:37:49.898035",
     "exception": false,
     "start_time": "2022-08-03T00:37:49.872631",
     "status": "completed"
    },
    "tags": []
   },
   "outputs": [
    {
     "data": {
      "text/plain": [
       "array([[0.23],\n",
       "       [0.21],\n",
       "       [0.23],\n",
       "       ...,\n",
       "       [0.71],\n",
       "       [0.71],\n",
       "       [0.7 ]])"
      ]
     },
     "execution_count": 24,
     "metadata": {},
     "output_type": "execute_result"
    }
   ],
   "source": [
    "X"
   ]
  },
  {
   "cell_type": "code",
   "execution_count": 25,
   "id": "121ccfc6",
   "metadata": {
    "execution": {
     "iopub.execute_input": "2022-08-03T00:37:49.929762Z",
     "iopub.status.busy": "2022-08-03T00:37:49.928902Z",
     "iopub.status.idle": "2022-08-03T00:37:49.934880Z",
     "shell.execute_reply": "2022-08-03T00:37:49.934117Z"
    },
    "papermill": {
     "duration": 0.024266,
     "end_time": "2022-08-03T00:37:49.937304",
     "exception": false,
     "start_time": "2022-08-03T00:37:49.913038",
     "status": "completed"
    },
    "tags": []
   },
   "outputs": [
    {
     "data": {
      "text/plain": [
       "array([[ 326],\n",
       "       [ 326],\n",
       "       [ 327],\n",
       "       ...,\n",
       "       [2756],\n",
       "       [2756],\n",
       "       [2757]])"
      ]
     },
     "execution_count": 25,
     "metadata": {},
     "output_type": "execute_result"
    }
   ],
   "source": [
    "y"
   ]
  },
  {
   "cell_type": "code",
   "execution_count": 26,
   "id": "44856376",
   "metadata": {
    "execution": {
     "iopub.execute_input": "2022-08-03T00:37:49.969341Z",
     "iopub.status.busy": "2022-08-03T00:37:49.968396Z",
     "iopub.status.idle": "2022-08-03T00:37:49.991707Z",
     "shell.execute_reply": "2022-08-03T00:37:49.990965Z"
    },
    "papermill": {
     "duration": 0.042182,
     "end_time": "2022-08-03T00:37:49.994532",
     "exception": false,
     "start_time": "2022-08-03T00:37:49.952350",
     "status": "completed"
    },
    "tags": []
   },
   "outputs": [
    {
     "name": "stdout",
     "output_type": "stream",
     "text": [
      "[-0.76477952  0.40970499  0.72209925 -6.76623534 -1.38925468]\n",
      "Average 5-Fold CV Score: -1.5576930590801776\n"
     ]
    }
   ],
   "source": [
    "reg = LinearRegression()\n",
    "cv_scores=cross_val_score(reg, X,y,cv=5)\n",
    "print(cv_scores)\n",
    "print(\"Average 5-Fold CV Score: {}\".format(np.mean(cv_scores)))"
   ]
  },
  {
   "cell_type": "code",
   "execution_count": 27,
   "id": "67d86891",
   "metadata": {
    "execution": {
     "iopub.execute_input": "2022-08-03T00:37:50.028151Z",
     "iopub.status.busy": "2022-08-03T00:37:50.027353Z",
     "iopub.status.idle": "2022-08-03T00:37:50.063796Z",
     "shell.execute_reply": "2022-08-03T00:37:50.062866Z"
    },
    "papermill": {
     "duration": 0.055165,
     "end_time": "2022-08-03T00:37:50.066244",
     "exception": false,
     "start_time": "2022-08-03T00:37:50.011079",
     "status": "completed"
    },
    "tags": []
   },
   "outputs": [],
   "source": [
    "X=pd.get_dummies(df.drop(columns=['price','log_price']))\n",
    "y=df.log_price\n"
   ]
  },
  {
   "cell_type": "code",
   "execution_count": 28,
   "id": "175ca5e2",
   "metadata": {
    "execution": {
     "iopub.execute_input": "2022-08-03T00:37:50.103428Z",
     "iopub.status.busy": "2022-08-03T00:37:50.102771Z",
     "iopub.status.idle": "2022-08-03T00:37:50.121489Z",
     "shell.execute_reply": "2022-08-03T00:37:50.120324Z"
    },
    "papermill": {
     "duration": 0.042991,
     "end_time": "2022-08-03T00:37:50.124232",
     "exception": false,
     "start_time": "2022-08-03T00:37:50.081241",
     "status": "completed"
    },
    "tags": []
   },
   "outputs": [],
   "source": [
    "X_train, X_test, y_train, y_test = train_test_split(X, y, test_size=0.33, random_state=42)"
   ]
  },
  {
   "cell_type": "code",
   "execution_count": 29,
   "id": "4bf2bbcb",
   "metadata": {
    "execution": {
     "iopub.execute_input": "2022-08-03T00:37:50.155981Z",
     "iopub.status.busy": "2022-08-03T00:37:50.155590Z",
     "iopub.status.idle": "2022-08-03T00:37:50.163521Z",
     "shell.execute_reply": "2022-08-03T00:37:50.162423Z"
    },
    "papermill": {
     "duration": 0.026292,
     "end_time": "2022-08-03T00:37:50.165654",
     "exception": false,
     "start_time": "2022-08-03T00:37:50.139362",
     "status": "completed"
    },
    "tags": []
   },
   "outputs": [],
   "source": [
    "def rmse_cv(model):\n",
    "    rmse = np.sqrt(-cross_val_score(model, X, y, scoring=\"neg_mean_squared_error\", cv=5)).mean()\n",
    "    return rmse\n",
    "    \n",
    "\n",
    "def evaluation(y, predictions):\n",
    "    mae = mean_absolute_error(y, predictions)\n",
    "    mse = mean_squared_error(y, predictions)\n",
    "    rmse = np.sqrt(mean_squared_error(y, predictions))\n",
    "    r_squared = r2_score(y, predictions)\n",
    "    print(\"MAE:\", mae)\n",
    "    print(\"MSE:\", mse)\n",
    "    print(\"RMSE:\", rmse)\n",
    "    print(\"R2 Score:\", r_squared)\n",
    "    print(\"-\"*30)\n",
    "    rmse_cross_val = rmse_cv(lin_reg)\n",
    "    print(\"RMSE Cross-Validation:\", rmse_cross_val)\n",
    "    return mae, mse, rmse, r_squared"
   ]
  },
  {
   "cell_type": "code",
   "execution_count": 30,
   "id": "42668965",
   "metadata": {
    "execution": {
     "iopub.execute_input": "2022-08-03T00:37:50.197344Z",
     "iopub.status.busy": "2022-08-03T00:37:50.196954Z",
     "iopub.status.idle": "2022-08-03T00:37:50.204562Z",
     "shell.execute_reply": "2022-08-03T00:37:50.203523Z"
    },
    "papermill": {
     "duration": 0.025982,
     "end_time": "2022-08-03T00:37:50.206787",
     "exception": false,
     "start_time": "2022-08-03T00:37:50.180805",
     "status": "completed"
    },
    "tags": []
   },
   "outputs": [],
   "source": [
    "models = pd.DataFrame(columns=[\"Model\",\"MAE\",\"MSE\",\"RMSE\",\"R2 Score\",\"RMSE (Cross-Validation)\"])"
   ]
  },
  {
   "cell_type": "markdown",
   "id": "b53a44bf",
   "metadata": {
    "papermill": {
     "duration": 0.014586,
     "end_time": "2022-08-03T00:37:50.236364",
     "exception": false,
     "start_time": "2022-08-03T00:37:50.221778",
     "status": "completed"
    },
    "tags": []
   },
   "source": [
    "Linear"
   ]
  },
  {
   "cell_type": "code",
   "execution_count": 31,
   "id": "af962642",
   "metadata": {
    "execution": {
     "iopub.execute_input": "2022-08-03T00:37:50.268118Z",
     "iopub.status.busy": "2022-08-03T00:37:50.267444Z",
     "iopub.status.idle": "2022-08-03T00:37:51.348070Z",
     "shell.execute_reply": "2022-08-03T00:37:51.346236Z"
    },
    "papermill": {
     "duration": 1.101876,
     "end_time": "2022-08-03T00:37:51.353041",
     "exception": false,
     "start_time": "2022-08-03T00:37:50.251165",
     "status": "completed"
    },
    "tags": []
   },
   "outputs": [
    {
     "name": "stdout",
     "output_type": "stream",
     "text": [
      "MAE: 0.10616187101816696\n",
      "MSE: 0.019487501866471107\n",
      "RMSE: 0.13959764276831865\n",
      "R2 Score: 0.9809708733825763\n",
      "------------------------------\n",
      "RMSE Cross-Validation: 0.16287456212131546\n"
     ]
    }
   ],
   "source": [
    "lin_reg = LinearRegression()\n",
    "lin_reg.fit(X_train, y_train)\n",
    "predictions = lin_reg.predict(X_test)\n",
    "\n",
    "mae, mse, rmse, r_squared = evaluation(y_test, predictions)\n",
    "#print(\"MAE:\", mae)\n",
    "#print(\"MSE:\", mse)\n",
    "#print(\"RMSE:\", rmse)\n",
    "#print(\"R2 Score:\", r_squared)\n",
    "#print(\"-\"*30)\n",
    "rmse_cross_val = rmse_cv(lin_reg)\n",
    "#print(\"RMSE Cross-Validation:\", rmse_cross_val)\n",
    "\n",
    "new_row = {\"Model\": \"LinearRegression\",\"MAE\": mae, \"MSE\": mse, \"RMSE\": rmse, \"R2 Score\": r_squared, \"RMSE (Cross-Validation)\": rmse_cross_val}\n",
    "models = models.append(new_row, ignore_index=True)"
   ]
  },
  {
   "cell_type": "markdown",
   "id": "e72e0550",
   "metadata": {
    "papermill": {
     "duration": 0.042752,
     "end_time": "2022-08-03T00:37:51.464713",
     "exception": false,
     "start_time": "2022-08-03T00:37:51.421961",
     "status": "completed"
    },
    "tags": []
   },
   "source": [
    "Ridge"
   ]
  },
  {
   "cell_type": "code",
   "execution_count": 32,
   "id": "c02e6b6c",
   "metadata": {
    "execution": {
     "iopub.execute_input": "2022-08-03T00:37:51.496870Z",
     "iopub.status.busy": "2022-08-03T00:37:51.496490Z",
     "iopub.status.idle": "2022-08-03T00:37:52.427965Z",
     "shell.execute_reply": "2022-08-03T00:37:52.426557Z"
    },
    "papermill": {
     "duration": 0.952329,
     "end_time": "2022-08-03T00:37:52.432418",
     "exception": false,
     "start_time": "2022-08-03T00:37:51.480089",
     "status": "completed"
    },
    "tags": []
   },
   "outputs": [
    {
     "name": "stdout",
     "output_type": "stream",
     "text": [
      "MAE: 0.10615670231557817\n",
      "MSE: 0.019484746059023377\n",
      "RMSE: 0.13958777188215082\n",
      "R2 Score: 0.9809735643693028\n",
      "------------------------------\n",
      "RMSE Cross-Validation: 0.16287456212131546\n",
      "MAE: 0.10615670231557817\n",
      "MSE: 0.019484746059023377\n",
      "RMSE: 0.13958777188215082\n",
      "R2 Score: 0.9809735643693028\n",
      "------------------------------\n",
      "RMSE Cross-Validation: 0.16276764675146924\n"
     ]
    }
   ],
   "source": [
    "ridge = Ridge()\n",
    "ridge.fit(X_train, y_train)\n",
    "predictions = ridge.predict(X_test)\n",
    "\n",
    "mae, mse, rmse, r_squared = evaluation(y_test, predictions)\n",
    "print(\"MAE:\", mae)\n",
    "print(\"MSE:\", mse)\n",
    "print(\"RMSE:\", rmse)\n",
    "print(\"R2 Score:\", r_squared)\n",
    "print(\"-\"*30)\n",
    "rmse_cross_val = rmse_cv(ridge)\n",
    "print(\"RMSE Cross-Validation:\", rmse_cross_val)\n",
    "\n",
    "new_row = {\"Model\": \"Ridge\",\"MAE\": mae, \"MSE\": mse, \"RMSE\": rmse, \"R2 Score\": r_squared, \"RMSE (Cross-Validation)\": rmse_cross_val}\n",
    "models = models.append(new_row, ignore_index=True)"
   ]
  },
  {
   "cell_type": "markdown",
   "id": "36120beb",
   "metadata": {
    "papermill": {
     "duration": 0.037692,
     "end_time": "2022-08-03T00:37:52.508566",
     "exception": false,
     "start_time": "2022-08-03T00:37:52.470874",
     "status": "completed"
    },
    "tags": []
   },
   "source": [
    "Lasso"
   ]
  },
  {
   "cell_type": "code",
   "execution_count": 33,
   "id": "4a7dea14",
   "metadata": {
    "execution": {
     "iopub.execute_input": "2022-08-03T00:37:52.559389Z",
     "iopub.status.busy": "2022-08-03T00:37:52.558977Z",
     "iopub.status.idle": "2022-08-03T00:37:53.561667Z",
     "shell.execute_reply": "2022-08-03T00:37:53.558829Z"
    },
    "papermill": {
     "duration": 1.024274,
     "end_time": "2022-08-03T00:37:53.566577",
     "exception": false,
     "start_time": "2022-08-03T00:37:52.542303",
     "status": "completed"
    },
    "tags": []
   },
   "outputs": [
    {
     "name": "stdout",
     "output_type": "stream",
     "text": [
      "MAE: 0.8034215655251885\n",
      "MSE: 0.8693025526710948\n",
      "RMSE: 0.932363959337283\n",
      "R2 Score: 0.15114474615706996\n",
      "------------------------------\n",
      "RMSE Cross-Validation: 0.16287456212131546\n",
      "MAE: 0.8034215655251885\n",
      "MSE: 0.8693025526710948\n",
      "RMSE: 0.932363959337283\n",
      "R2 Score: 0.15114474615706996\n",
      "------------------------------\n",
      "RMSE Cross-Validation: 0.984115215866886\n"
     ]
    }
   ],
   "source": [
    "lasso = Lasso()\n",
    "lasso.fit(X_train, y_train)\n",
    "predictions = lasso.predict(X_test)\n",
    "\n",
    "mae, mse, rmse, r_squared = evaluation(y_test, predictions)\n",
    "print(\"MAE:\", mae)\n",
    "print(\"MSE:\", mse)\n",
    "print(\"RMSE:\", rmse)\n",
    "print(\"R2 Score:\", r_squared)\n",
    "print(\"-\"*30)\n",
    "rmse_cross_val = rmse_cv(lasso)\n",
    "print(\"RMSE Cross-Validation:\", rmse_cross_val)\n",
    "\n",
    "new_row = {\"Model\": \"Lasso\",\"MAE\": mae, \"MSE\": mse, \"RMSE\": rmse, \"R2 Score\": r_squared, \"RMSE (Cross-Validation)\": rmse_cross_val}\n",
    "models = models.append(new_row, ignore_index=True)"
   ]
  },
  {
   "cell_type": "markdown",
   "id": "cdec58a0",
   "metadata": {
    "papermill": {
     "duration": 0.036734,
     "end_time": "2022-08-03T00:37:53.675696",
     "exception": false,
     "start_time": "2022-08-03T00:37:53.638962",
     "status": "completed"
    },
    "tags": []
   },
   "source": [
    "Elastic"
   ]
  },
  {
   "cell_type": "code",
   "execution_count": 34,
   "id": "c1de32f7",
   "metadata": {
    "execution": {
     "iopub.execute_input": "2022-08-03T00:37:53.708864Z",
     "iopub.status.busy": "2022-08-03T00:37:53.708464Z",
     "iopub.status.idle": "2022-08-03T00:37:54.676439Z",
     "shell.execute_reply": "2022-08-03T00:37:54.674634Z"
    },
    "papermill": {
     "duration": 0.989946,
     "end_time": "2022-08-03T00:37:54.681447",
     "exception": false,
     "start_time": "2022-08-03T00:37:53.691501",
     "status": "completed"
    },
    "tags": []
   },
   "outputs": [
    {
     "name": "stdout",
     "output_type": "stream",
     "text": [
      "MAE: 0.5154023053619525\n",
      "MSE: 0.36928905508115273\n",
      "RMSE: 0.607691578912488\n",
      "R2 Score: 0.6393971769332515\n",
      "------------------------------\n",
      "RMSE Cross-Validation: 0.16287456212131546\n",
      "MAE: 0.5154023053619525\n",
      "MSE: 0.36928905508115273\n",
      "RMSE: 0.607691578912488\n",
      "R2 Score: 0.6393971769332515\n",
      "------------------------------\n",
      "RMSE Cross-Validation: 0.6844959324590955\n"
     ]
    }
   ],
   "source": [
    "elastic_net = ElasticNet()\n",
    "elastic_net.fit(X_train, y_train)\n",
    "predictions = elastic_net.predict(X_test)\n",
    "\n",
    "mae, mse, rmse, r_squared = evaluation(y_test, predictions)\n",
    "print(\"MAE:\", mae)\n",
    "print(\"MSE:\", mse)\n",
    "print(\"RMSE:\", rmse)\n",
    "print(\"R2 Score:\", r_squared)\n",
    "print(\"-\"*30)\n",
    "rmse_cross_val = rmse_cv(elastic_net)\n",
    "print(\"RMSE Cross-Validation:\", rmse_cross_val)\n",
    "\n",
    "new_row = {\"Model\": \"ElasticNet\",\"MAE\": mae, \"MSE\": mse, \"RMSE\": rmse, \"R2 Score\": r_squared, \"RMSE (Cross-Validation)\": rmse_cross_val}\n",
    "models = models.append(new_row, ignore_index=True)"
   ]
  },
  {
   "cell_type": "markdown",
   "id": "12ed31ec",
   "metadata": {
    "papermill": {
     "duration": 0.045208,
     "end_time": "2022-08-03T00:37:54.770653",
     "exception": false,
     "start_time": "2022-08-03T00:37:54.725445",
     "status": "completed"
    },
    "tags": []
   },
   "source": [
    "support"
   ]
  },
  {
   "cell_type": "code",
   "execution_count": 35,
   "id": "76c5e0ad",
   "metadata": {
    "execution": {
     "iopub.execute_input": "2022-08-03T00:37:54.806000Z",
     "iopub.status.busy": "2022-08-03T00:37:54.805230Z",
     "iopub.status.idle": "2022-08-03T00:37:54.811664Z",
     "shell.execute_reply": "2022-08-03T00:37:54.810921Z"
    },
    "papermill": {
     "duration": 0.025529,
     "end_time": "2022-08-03T00:37:54.813696",
     "exception": false,
     "start_time": "2022-08-03T00:37:54.788167",
     "status": "completed"
    },
    "tags": []
   },
   "outputs": [
    {
     "data": {
      "text/plain": [
       "'svr = SVR(C=100)\\nsvr.fit(X_train, y_train)\\npredictions = svr.predict(X_test)\\n\\nmae, mse, rmse, r_squared = evaluation(y_test, predictions)\\nprint(\"MAE:\", mae)\\nprint(\"MSE:\", mse)\\nprint(\"RMSE:\", rmse)\\nprint(\"R2 Score:\", r_squared)\\nprint(\"-\"*30)\\nrmse_cross_val = rmse_cv(svr)\\nprint(\"RMSE Cross-Validation:\", rmse_cross_val)\\n\\nnew_row = {\"Model\": \"SVR\",\"MAE\": mae, \"MSE\": mse, \"RMSE\": rmse, \"R2 Score\": r_squared, \"RMSE (Cross-Validation)\": rmse_cross_val}\\nmodels = models.append(new_row, ignore_index=True)'"
      ]
     },
     "execution_count": 35,
     "metadata": {},
     "output_type": "execute_result"
    }
   ],
   "source": [
    "\"\"\"svr = SVR(C=100)\n",
    "svr.fit(X_train, y_train)\n",
    "predictions = svr.predict(X_test)\n",
    "\n",
    "mae, mse, rmse, r_squared = evaluation(y_test, predictions)\n",
    "print(\"MAE:\", mae)\n",
    "print(\"MSE:\", mse)\n",
    "print(\"RMSE:\", rmse)\n",
    "print(\"R2 Score:\", r_squared)\n",
    "print(\"-\"*30)\n",
    "rmse_cross_val = rmse_cv(svr)\n",
    "print(\"RMSE Cross-Validation:\", rmse_cross_val)\n",
    "\n",
    "new_row = {\"Model\": \"SVR\",\"MAE\": mae, \"MSE\": mse, \"RMSE\": rmse, \"R2 Score\": r_squared, \"RMSE (Cross-Validation)\": rmse_cross_val}\n",
    "models = models.append(new_row, ignore_index=True)\"\"\""
   ]
  },
  {
   "cell_type": "code",
   "execution_count": 36,
   "id": "2717d95e",
   "metadata": {
    "execution": {
     "iopub.execute_input": "2022-08-03T00:37:54.846991Z",
     "iopub.status.busy": "2022-08-03T00:37:54.846294Z",
     "iopub.status.idle": "2022-08-03T00:37:54.858882Z",
     "shell.execute_reply": "2022-08-03T00:37:54.858164Z"
    },
    "papermill": {
     "duration": 0.031454,
     "end_time": "2022-08-03T00:37:54.860822",
     "exception": false,
     "start_time": "2022-08-03T00:37:54.829368",
     "status": "completed"
    },
    "tags": []
   },
   "outputs": [
    {
     "data": {
      "text/html": [
       "<div>\n",
       "<style scoped>\n",
       "    .dataframe tbody tr th:only-of-type {\n",
       "        vertical-align: middle;\n",
       "    }\n",
       "\n",
       "    .dataframe tbody tr th {\n",
       "        vertical-align: top;\n",
       "    }\n",
       "\n",
       "    .dataframe thead th {\n",
       "        text-align: right;\n",
       "    }\n",
       "</style>\n",
       "<table border=\"1\" class=\"dataframe\">\n",
       "  <thead>\n",
       "    <tr style=\"text-align: right;\">\n",
       "      <th></th>\n",
       "      <th>Model</th>\n",
       "      <th>MAE</th>\n",
       "      <th>MSE</th>\n",
       "      <th>RMSE</th>\n",
       "      <th>R2 Score</th>\n",
       "      <th>RMSE (Cross-Validation)</th>\n",
       "    </tr>\n",
       "  </thead>\n",
       "  <tbody>\n",
       "    <tr>\n",
       "      <th>1</th>\n",
       "      <td>Ridge</td>\n",
       "      <td>0.106157</td>\n",
       "      <td>0.019485</td>\n",
       "      <td>0.139588</td>\n",
       "      <td>0.980974</td>\n",
       "      <td>0.162768</td>\n",
       "    </tr>\n",
       "    <tr>\n",
       "      <th>0</th>\n",
       "      <td>LinearRegression</td>\n",
       "      <td>0.106162</td>\n",
       "      <td>0.019488</td>\n",
       "      <td>0.139598</td>\n",
       "      <td>0.980971</td>\n",
       "      <td>0.162875</td>\n",
       "    </tr>\n",
       "    <tr>\n",
       "      <th>3</th>\n",
       "      <td>ElasticNet</td>\n",
       "      <td>0.515402</td>\n",
       "      <td>0.369289</td>\n",
       "      <td>0.607692</td>\n",
       "      <td>0.639397</td>\n",
       "      <td>0.684496</td>\n",
       "    </tr>\n",
       "    <tr>\n",
       "      <th>2</th>\n",
       "      <td>Lasso</td>\n",
       "      <td>0.803422</td>\n",
       "      <td>0.869303</td>\n",
       "      <td>0.932364</td>\n",
       "      <td>0.151145</td>\n",
       "      <td>0.984115</td>\n",
       "    </tr>\n",
       "  </tbody>\n",
       "</table>\n",
       "</div>"
      ],
      "text/plain": [
       "              Model       MAE       MSE      RMSE  R2 Score  \\\n",
       "1             Ridge  0.106157  0.019485  0.139588  0.980974   \n",
       "0  LinearRegression  0.106162  0.019488  0.139598  0.980971   \n",
       "3        ElasticNet  0.515402  0.369289  0.607692  0.639397   \n",
       "2             Lasso  0.803422  0.869303  0.932364  0.151145   \n",
       "\n",
       "   RMSE (Cross-Validation)  \n",
       "1                 0.162768  \n",
       "0                 0.162875  \n",
       "3                 0.684496  \n",
       "2                 0.984115  "
      ]
     },
     "execution_count": 36,
     "metadata": {},
     "output_type": "execute_result"
    }
   ],
   "source": [
    "models.sort_values(by=\"RMSE (Cross-Validation)\")"
   ]
  },
  {
   "cell_type": "code",
   "execution_count": 37,
   "id": "ef6b55f1",
   "metadata": {
    "execution": {
     "iopub.execute_input": "2022-08-03T00:37:54.894910Z",
     "iopub.status.busy": "2022-08-03T00:37:54.894218Z",
     "iopub.status.idle": "2022-08-03T00:37:55.109080Z",
     "shell.execute_reply": "2022-08-03T00:37:55.108258Z"
    },
    "papermill": {
     "duration": 0.234339,
     "end_time": "2022-08-03T00:37:55.111105",
     "exception": false,
     "start_time": "2022-08-03T00:37:54.876766",
     "status": "completed"
    },
    "tags": []
   },
   "outputs": [
    {
     "data": {
      "image/png": "[encoded data removed]",
      "text/plain": [
       "<Figure size 864x576 with 1 Axes>"
      ]
     },
     "metadata": {},
     "output_type": "display_data"
    }
   ],
   "source": [
    "plt.figure(figsize=(12,8))\n",
    "sns.barplot(x=models[\"Model\"], y=models[\"RMSE (Cross-Validation)\"])\n",
    "plt.title(\"Models' RMSE Scores (Cross-Validated)\", size=15)\n",
    "plt.xticks(rotation=30, size=12)\n",
    "plt.show()"
   ]
  }
 ],
 "metadata": {
  "kernelspec": {
   "display_name": "Python 3",
   "language": "python",
   "name": "python3"
  },
  "language_info": {
   "codemirror_mode": {
    "name": "ipython",
    "version": 3
   },
   "file_extension": ".py",
   "mimetype": "text/x-python",
   "name": "python",
   "nbconvert_exporter": "python",
   "pygments_lexer": "ipython3",
   "version": "3.7.12"
  },
  "papermill": {
   "default_parameters": {},
   "duration": 19.465657,
   "end_time": "2022-08-03T00:37:55.951407",
   "environment_variables": {},
   "exception": null,
   "input_path": "__notebook__.ipynb",
   "output_path": "__notebook__.ipynb",
   "parameters": {},
   "start_time": "2022-08-03T00:37:36.485750",
   "version": "2.3.4"
  }
 },
 "nbformat": 4,
 "nbformat_minor": 5
}
